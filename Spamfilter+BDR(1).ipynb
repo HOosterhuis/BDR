{
 "cells": [
  {
   "cell_type": "markdown",
   "metadata": {},
   "source": [
    "# SPAM FILTER"
   ]
  },
  {
   "cell_type": "code",
   "execution_count": 57,
   "metadata": {
    "collapsed": true
   },
   "outputs": [],
   "source": [
    "# Import modules"
   ]
  },
  {
   "cell_type": "code",
   "execution_count": 2,
   "metadata": {
    "collapsed": false
   },
   "outputs": [],
   "source": [
    "import os\n",
    "import sys\n",
    "import pandas as pd\n",
    "import email\n",
    "import re\n",
    "import nltk\n",
    "import numpy as np\n",
    "import sklearn\n"
   ]
  },
  {
   "cell_type": "markdown",
   "metadata": {},
   "source": [
    "# Functions "
   ]
  },
  {
   "cell_type": "markdown",
   "metadata": {},
   "source": [
    "## Read data using file crawler"
   ]
  },
  {
   "cell_type": "code",
   "execution_count": 2,
   "metadata": {
    "collapsed": true
   },
   "outputs": [],
   "source": [
    "# Mails staan in folders, subfolders. FileCrawler loopt door de folders en subfolders heb en opent de mails."
   ]
  },
  {
   "cell_type": "code",
   "execution_count": 3,
   "metadata": {
    "collapsed": false
   },
   "outputs": [],
   "source": [
    "# File crawler om data in te lezen\n",
    "def FileCrawler(root, variable):\n",
    "    for root, dirs, files in os.walk(root):\n",
    "        for f in files: \n",
    "            with open(os.path.join(root,f)) as content:\n",
    "                file_content = content.read()\n",
    "                variable.append(file_content) \n",
    "    return"
   ]
  },
  {
   "cell_type": "markdown",
   "metadata": {},
   "source": [
    "## Mails uit elkaar trekken"
   ]
  },
  {
   "cell_type": "code",
   "execution_count": 4,
   "metadata": {
    "collapsed": true
   },
   "outputs": [],
   "source": [
    "# mails bestaan uit mail-informatie en het daadwerkelijke mailtje (dus from, to, etc.).\n",
    "# SpamParser haalt de informatie los en geeft de \"from, to, en body\" als losse informatie."
   ]
  },
  {
   "cell_type": "code",
   "execution_count": 5,
   "metadata": {
    "collapsed": true
   },
   "outputs": [],
   "source": [
    "def SpamParser(data):\n",
    "    b = email.message_from_string(data)\n",
    "    mail_from = b['from']\n",
    "    mail_to = b['to']\n",
    "    mail_body = []\n",
    "    if b.is_multipart():\n",
    "        for part in b.walk():\n",
    "            if part.get_content_type() == 'text/plain':\n",
    "                mail_body = part.get_payload()\n",
    "            elif part.get_content_type() == 'text/html':\n",
    "                mail_body = part.get_payload()\n",
    "    else:\n",
    "        mail_body = b.get_payload()\n",
    "    return {'from':mail_from, 'to': mail_to,'body': mail_body}\n"
   ]
  },
  {
   "cell_type": "markdown",
   "metadata": {},
   "source": [
    "## Line breaks verwijderen uit mail"
   ]
  },
  {
   "cell_type": "code",
   "execution_count": 6,
   "metadata": {
    "collapsed": true
   },
   "outputs": [],
   "source": [
    "def RemoveLineBreaks(mail):\n",
    "    cleaned = re.sub(\"\\n\", \" \", mail)\n",
    "    cleaned = re.sub(\"\\t\", \" \", cleaned)\n",
    "    return cleaned"
   ]
  },
  {
   "cell_type": "markdown",
   "metadata": {},
   "source": [
    "## Mails HTML to text"
   ]
  },
  {
   "cell_type": "code",
   "execution_count": 7,
   "metadata": {
    "collapsed": true
   },
   "outputs": [],
   "source": [
    "# De spam mail bodies staan in html\n",
    "# Clean_html: functie om html tags uit mailtje te halen. Werkt niet 100% (soms blijft er een enkele code staan) \n",
    "# maar wel beter dan html2text (encoding errors) en BeautifulSoup (die laat soms html staan zonder het te zeggen)"
   ]
  },
  {
   "cell_type": "code",
   "execution_count": 8,
   "metadata": {
    "collapsed": true
   },
   "outputs": [],
   "source": [
    "def clean_html(file):\n",
    "    # First remove inline JavaScript/CSS:\n",
    "    cleaned = re.sub(r\"(?is)<(script|style).*?>.*?()\", \"\", file)\n",
    "    # Then remove html comments. \n",
    "    cleaned = re.sub(r\"(?s)[\\n]?\", \"\", cleaned)\n",
    "    # Next remove the remaining tags:\n",
    "    cleaned = re.sub(r\"(?s)<.*?>\", \" \", cleaned)\n",
    "    # Finally deal with whitespace\n",
    "    cleaned = cleaned.replace('&nbsp', ' ')\n",
    "    cleaned = re.sub(r\" \", \" \", cleaned)\n",
    "    cleaned = re.sub(r\"^$\", \"\", cleaned)\n",
    "    cleaned = re.sub(\"''|,\", \"\", cleaned)\n",
    "    cleaned = re.sub(r\"  \", \" \", cleaned)\n",
    "    cleaned = re.sub(\"\\t\", \" \", cleaned)\n",
    "    cleaned = re.sub(\"\\n\", \" \", cleaned)\n",
    "    return cleaned"
   ]
  },
  {
   "cell_type": "code",
   "execution_count": 9,
   "metadata": {
    "collapsed": true
   },
   "outputs": [],
   "source": [
    "    # Functie om de mail body om te zetten in een string woorden. \n",
    "    # Niet-letters worden verwijderd\n",
    "    # alles is lower-case, opgesplitst in losse woorden\n",
    "    # stop-woorden zijn verwijderd\n",
    "    # overgebleven woorden weer omgezet in enkele string"
   ]
  },
  {
   "cell_type": "code",
   "execution_count": 10,
   "metadata": {
    "collapsed": true
   },
   "outputs": [],
   "source": [
    "def mail_to_words( raw_mailbody ):\n",
    "    # Function to convert a raw review to a string of words\n",
    "    # The input is a single string (a raw movie review), and \n",
    "    # the output is a single string (a preprocessed movie review)\n",
    "    #\n",
    "    #\n",
    "    # 1. Remove non-letters        \n",
    "    letters_only = re.sub(\"[^a-zA-Z]\", \" \", raw_mailbody) \n",
    "    #\n",
    "    # 3. Convert to lower case, split into individual words\n",
    "    words = letters_only.lower().split()                             \n",
    "    #\n",
    "    # 4. In Python, searching a set is much faster than searching\n",
    "    #   a list, so convert the stop words to a set\n",
    "    stops = set(stopwords.words(\"english\"))                  \n",
    "    # \n",
    "    # 5. Remove stop words\n",
    "    meaningful_words = [w for w in words if not w in stops]   \n",
    "    #\n",
    "    # 6. Join the words back into one string separated by space, \n",
    "    # and return the result.\n",
    "    return( \" \".join( meaningful_words ))   "
   ]
  },
  {
   "cell_type": "markdown",
   "metadata": {},
   "source": [
    "# Clean and preprocess data"
   ]
  },
  {
   "cell_type": "markdown",
   "metadata": {},
   "source": [
    "## Data inlezen"
   ]
  },
  {
   "cell_type": "code",
   "execution_count": 11,
   "metadata": {
    "collapsed": false
   },
   "outputs": [],
   "source": [
    "# HAM-data inlezen\n",
    "root = \"C:\\Users\\HOosterhuis\\Documents\\BDR\\SPAMFILTER\\HAM\"\n",
    "ham_data = []\n",
    "FileCrawler(root, ham_data)"
   ]
  },
  {
   "cell_type": "code",
   "execution_count": 12,
   "metadata": {
    "collapsed": false
   },
   "outputs": [
    {
     "data": {
      "text/plain": [
       "\"Message-ID: <17309347.1075855814379.JavaMail.evans@thyme>\\nDate: Thu, 17 Aug 2000 00:48:00 -0700 (PDT)\\nFrom: ted.bland@enron.com\\nTo: david.oxley@enron.com, sally.beck@enron.com, raymond.bowen@enron.com, \\n\\tchristopher.calger@enron.com, tim.belden@enron.com, \\n\\tmax.yzaguirre@enron.com, rob.milnthorp@enron.com, \\n\\tjanet.dietrich@enron.com, george.mccormick@enron.com, \\n\\tjeff.donahue@enron.com, heather.kendall@enron.com, \\n\\tgary.hickerson@enron.com, elsa.piekielniak@enron.com, \\n\\tjesus.melendrez@enron.com, rodney.malcolm@enron.com, \\n\\tkevin.mcgowan@enron.com, jere.overdyke@enron.com, \\n\\tedward.baughman@enron.com, tom.shelton@enron.com, \\n\\tjean.mrha@enron.com, bryan.burnett@enron.com, \\n\\tvince.kaminski@enron.com, mike.mcconnell@enron.com\\nSubject: Initial meeting of the ENA Analyst and Associate Roundtable August\\n 18, 2000\\nCc: mark.frevert@enron.com, david.delainey@enron.com, john.lavorato@enron.com, \\n\\ttim.o'rourke@enron.com\\nMime-Version: 1.0\\nContent-Type: text/plain; charset=us-ascii\\nContent-Transfer-Encoding: 7bit\\nBcc: mark.frevert@enron.com, david.delainey@enron.com, john.lavorato@enron.com, \\n\\ttim.o'rourke@enron.com\\nX-From: Ted C Bland\\nX-To: David Oxley, Sally Beck, Raymond Bowen, Christopher F Calger, Tim Belden, Max Yzaguirre, Rob Milnthorp, Janet R Dietrich, George McCormick, Jeff Donahue, Heather Kendall, Gary Hickerson, Elsa Piekielniak, Jesus Melendrez, Rodney Malcolm, Kevin McGowan, Jere C Overdyke, Edward D Baughman, Tom Shelton, Jean Mrha, Bryan Burnett, Vince J Kaminski, Mike McConnell\\nX-cc: Mark Frevert, David W Delainey, John J Lavorato, Tim O'Rourke\\nX-bcc: \\nX-Origin: Beck-S\\nX-FileName: sbeck.nsf\\n\\nJust a reminder we will have the initial meeting of the ENA/ AA Roundtable on \\nFriday at 9:00am in room EB30C1.  Again, the agenda is as follows:\\n\\nDiscussion of PRC\\nImmediate and future AA needs by business unit\\nSkill shortages\\nCampus and off-cycle recruitment\\nMottom 10% management\\nProjecting AA needs from core schools for Summer 2001 intake\\nExisting talent in specialist roles who should be in AA Program\\nIdeas/suggestions on how we improve the Program/ENA retention\\n\\nYour groups need to be represented and if you can't attend please send \\nsomeone to represent you.  Those of you out of town need to call me if you \\nhave any input.    Thanks again for all your support.  Ted\""
      ]
     },
     "execution_count": 12,
     "metadata": {},
     "output_type": "execute_result"
    }
   ],
   "source": [
    "ham_data[12]"
   ]
  },
  {
   "cell_type": "code",
   "execution_count": 13,
   "metadata": {
    "collapsed": false
   },
   "outputs": [],
   "source": [
    "# SPAM-data inlezen\n",
    "root = \"C:\\Users\\HOosterhuis\\Documents\\BDR\\SPAMFILTER\\SPAM\"\n",
    "spam_data = []\n",
    "FileCrawler(root, spam_data)"
   ]
  },
  {
   "cell_type": "code",
   "execution_count": 14,
   "metadata": {
    "collapsed": false
   },
   "outputs": [
    {
     "data": {
      "text/plain": [
       "'Return-Path: <rollinsbc@to-pornostarz.de>\\nDelivered-To: cvs@bruce-guenter.dyndns.org\\nReceived: (qmail 9893 invoked from network); 31 Jul 2004 05:52:48 -0000\\nReceived: from localhost (localhost [127.0.0.1])\\n  by bruce-guenter.dyndns.org ([192.168.1.3]); 31 Jul 2004 05:52:48 -0000\\nReceived: from zak.futurequest.net ([127.0.0.1])\\n  by localhost ([127.0.0.1])\\n  with SMTP via TCP; 31 Jul 2004 05:52:48 -0000\\nReceived: (qmail 5447 invoked from network); 31 Jul 2004 05:52:47 -0000\\nReceived: from io.dk (unknown [221.138.100.167])\\n  by zak.futurequest.net ([69.5.6.152])\\n  with SMTP via TCP; 31 Jul 2004 05:52:46 -0000\\nReceived: from 238.196.223.0 by smtp.to-pornostarz.de;\\n\\tSat, 31 Jul 2004 05:53:06 +0000\\nMessage-ID: <acca01c476c2$cdaa0f98$4cd3b42c@io.dk>\\nFrom: rollinsbc@to-pornostarz.de\\nTo: cvs@bruce-guenter.dyndns.org\\nSubject: Make $472\\nDate: Sat, 31 Jul 2004 11:52:59 +0600\\nMIME-Version: 1.0\\nContent-Type: text/plain;\\n\\tcharset=\"iso-8859-1\"\\nContent-Transfer-Encoding: 8bit\\nContent-Length: 606\\nLines: 20\\n\\nHello,\\n\\nWe sent you an email a while ago, because you now qualify for a new mortgage.\\nYou could get $300,000 for as little as $700 a month!\\nBad credit is no problem, you can pull cash out or refinance.\\n\\nPlease click on this link for free consultation by a mortgage broker:\\nhttp://www.hgkkdc.com/\\n\\nBest Regards,\\nJamie Higgs\\n\\nNo thanks: http://www.hgkkdc.com/r1\\n\\n---- system information ----\\nmay identical) various Discussion programmer Force display xml:lang \\norderings maintaining Semantics: description Services locale Alternate\\nback \\nresulting expecting so weekday/weekend Document incomplete meet via \\n'"
      ]
     },
     "execution_count": 14,
     "metadata": {},
     "output_type": "execute_result"
    }
   ],
   "source": [
    "spam_data[15]"
   ]
  },
  {
   "cell_type": "markdown",
   "metadata": {},
   "source": [
    "## Ham-email omzetten"
   ]
  },
  {
   "cell_type": "code",
   "execution_count": 15,
   "metadata": {
    "collapsed": false
   },
   "outputs": [],
   "source": [
    "# Ham-mails: from, to en body extracten"
   ]
  },
  {
   "cell_type": "code",
   "execution_count": 16,
   "metadata": {
    "collapsed": false
   },
   "outputs": [],
   "source": [
    "ham_data_mail = [SpamParser(d) for d in ham_data]"
   ]
  },
  {
   "cell_type": "code",
   "execution_count": 17,
   "metadata": {
    "collapsed": false
   },
   "outputs": [],
   "source": [
    "ham_data_from = [x['from'] for  x in ham_data_mail]\n",
    "ham_data_to = [x['to'] for  x in ham_data_mail]\n",
    "ham_data_body = [x['body'] for  x in ham_data_mail]"
   ]
  },
  {
   "cell_type": "code",
   "execution_count": 18,
   "metadata": {
    "collapsed": false
   },
   "outputs": [],
   "source": [
    "ham_data_text = [RemoveLineBreaks(x) for x in ham_data_body]"
   ]
  },
  {
   "cell_type": "code",
   "execution_count": 19,
   "metadata": {
    "collapsed": false
   },
   "outputs": [
    {
     "data": {
      "text/plain": [
       "'URGENT  The Associate and Analyst Recruiting Department will be conducting a number  of two hour workshops to review our recruiting and interview process for the  fall on-campus recruiting effort.  Critical information regarding our  on-campus interview process, revised evaluation forms and program structure  will be reviewed during these two hours sessions.  It is mandatory that all team members attend these workshops.  All team  members must attend in order to articulate and demonstrate the Enron  recruiting process.  Knowing how busy schedules are, we have made  arrangements to present these workshops in two hours sessions for a total of   40 workshops that will run during the last week of August, through the month  of September and end at mid October.  Listed below are the dates, location and times for each session.  Please  select a date and time and e-mail this information to my assistant, Dolores  Muzzy.  We can accommodate 25 participants at a time.  Dolores will take  dates and times on a first come, first serve basis.  We have scheduled enough  sessions to accommodate every member of both the Associate and Analyst  recruiting teams.  In order to participate in the recruiting process, you must attend one of  these sessions.  We will be tracking participation.  CPE credits will also be  given for attending this workshop. '"
      ]
     },
     "execution_count": 19,
     "metadata": {},
     "output_type": "execute_result"
    }
   ],
   "source": [
    "ham_data_text[10]"
   ]
  },
  {
   "cell_type": "markdown",
   "metadata": {},
   "source": [
    "## Spam email omzetten "
   ]
  },
  {
   "cell_type": "code",
   "execution_count": 20,
   "metadata": {
    "collapsed": false
   },
   "outputs": [],
   "source": [
    "spam_data_mail = [SpamParser(d) for d in spam_data]"
   ]
  },
  {
   "cell_type": "code",
   "execution_count": 21,
   "metadata": {
    "collapsed": true
   },
   "outputs": [],
   "source": [
    "# Spam_data onderdelen los in lists opslaan, zodat verder gewerkt kan worden aan de (html-)body alleen"
   ]
  },
  {
   "cell_type": "code",
   "execution_count": 22,
   "metadata": {
    "collapsed": false
   },
   "outputs": [],
   "source": [
    "spam_data_from = [x['from'] for  x in spam_data_mail]\n",
    "spam_data_to = [x['to'] for  x in spam_data_mail]\n",
    "spam_data_body = [x['body'] for  x in spam_data_mail]"
   ]
  },
  {
   "cell_type": "code",
   "execution_count": 23,
   "metadata": {
    "collapsed": true
   },
   "outputs": [],
   "source": [
    "# Checken hoeveel mails zijn overgebleven"
   ]
  },
  {
   "cell_type": "code",
   "execution_count": 24,
   "metadata": {
    "collapsed": false
   },
   "outputs": [
    {
     "data": {
      "text/plain": [
       "32959"
      ]
     },
     "execution_count": 24,
     "metadata": {},
     "output_type": "execute_result"
    }
   ],
   "source": [
    "len(spam_data_body)"
   ]
  },
  {
   "cell_type": "code",
   "execution_count": 25,
   "metadata": {
    "collapsed": true
   },
   "outputs": [],
   "source": [
    "# Lege mails er uit halen (zijn er maar een paar)"
   ]
  },
  {
   "cell_type": "code",
   "execution_count": 26,
   "metadata": {
    "collapsed": false
   },
   "outputs": [],
   "source": [
    "spam_data_body = filter(None, spam_data_body)"
   ]
  },
  {
   "cell_type": "code",
   "execution_count": 27,
   "metadata": {
    "collapsed": false
   },
   "outputs": [
    {
     "data": {
      "text/plain": [
       "32848"
      ]
     },
     "execution_count": 27,
     "metadata": {},
     "output_type": "execute_result"
    }
   ],
   "source": [
    "len(spam_data_body)"
   ]
  },
  {
   "cell_type": "markdown",
   "metadata": {},
   "source": [
    "## Spam data in HTML: omzetten naar ASCII"
   ]
  },
  {
   "cell_type": "code",
   "execution_count": 28,
   "metadata": {
    "collapsed": true
   },
   "outputs": [],
   "source": [
    "# Mail body staat nog in HTML"
   ]
  },
  {
   "cell_type": "code",
   "execution_count": 29,
   "metadata": {
    "collapsed": false
   },
   "outputs": [
    {
     "data": {
      "text/plain": [
       "'<html>\\n<font color=\\n\\n#e5e6f6>Carolyn regretful watchfully Procrustes godly</font><br>\\nSummer 2004 was too hot for the software manufacturers.<br>\\nNo wonder! As the prices were reduced in 3-4 times.<br>\\nThis was caused by the software glut on the world market.<br>\\nOn the other hand the user who were not able or just had<br>\\nno time to update their software now have the possibility<br>\\nto do this almost free of charge.<br>\\n<br>\\n<b>\\n<i>Read the whole article:</i><br>\\n<a hrefrockerhref=http://ordinal.com href=\\n\\n\"http://softbox24.info/index.php?s=0288\">Year 2004. Sotware prices fall down.</a><br>\\n<font size=-1>\\xc2\\xa9 Peter Lemelman</font>\\n</font>\\n</b>\\n<font color=\\n\\n#e4e6e4>onerous reclaimers remunerate Lounsbury dictate</font><br>\\n<font color=\\n\\n#fbfdf1>costed continued snooping digression Rhine</font><br>\\n<font color=\\n\\n#f2f5f5>inseminate tilts instructs rejoice switchman</font><br>\\n<font color=\\n\\n#e3e8e7>stomaching hurtling Brent gunners tortoises</font><br>\\n</html>\\n\\n\\n'"
      ]
     },
     "execution_count": 29,
     "metadata": {},
     "output_type": "execute_result"
    }
   ],
   "source": [
    "spam_data_body[14]"
   ]
  },
  {
   "cell_type": "code",
   "execution_count": 30,
   "metadata": {
    "collapsed": true
   },
   "outputs": [],
   "source": [
    "# omzetten naar text met clean_html"
   ]
  },
  {
   "cell_type": "code",
   "execution_count": 31,
   "metadata": {
    "collapsed": false
   },
   "outputs": [],
   "source": [
    "spam_body_text = [clean_html(x) for x in spam_data_body]"
   ]
  },
  {
   "cell_type": "code",
   "execution_count": 32,
   "metadata": {
    "collapsed": false
   },
   "outputs": [
    {
     "data": {
      "text/plain": [
       "\"      Cheap softtwares for you all are Original Genuine!  Major titles from MICR0S0FT and AD0BE for Rock Bottom prriice Great Bargaain Sa1e! Variety discoount softtwares at wholesale chaeap pricing!   Micros0ft Wind0ws XP PR0fessional -  my price: $50 ;  normal : $299.00 ;  you saave $249.00  Ad0be Ph0toshop CS V 8.O PC  -  my price: $80 ;  normal : $609.99 ;  you save $529.99  Micros0ft 0ffice XP PR0fessional -  my price: $100 ;  normal : $ 499.95;  you saave $399.95  Ad0be Acrobaat V 6.O Professional PC -  my price: $100 ;  normal : $449.95 ;  you saave $349.95  Micros0ft 0ffice 2OO3 Professional -  my price: $80 ;  normal : $499.95 ;  you saave $419.95  N0rton Antivirus 2OO4 Professional -  my price: $15 ;  normal : $69.95 ;  you saave $54.95  CorelDraw Graphics Suite V 12 PC -  my price: $100 ;  normal : $349.95 ;  you saave $249.95  Ad0be Pagemaker V 7.O PC  -  my price: $80 ;  normal : $599.95 ;  you saave $519.95  We do have full range softwares -- Macr0media Mc-Afeee Ad0bee Core1Draw Micros0ft NERO Pinnacle Systems PowerQuest RedHat Riverdeep Roxio Symaantec 321 Studio 52 More P0PULAR titles for you >>   Cliickk here for 52 more titles   We shiip to all countries including africa finland & etc.. as where u located    Wonder why our priices are unbelievably L0W? We are currently clearing our goods at incredibily cheeap sa1e-priice in connection with the shutdown of our shop and the closure of the stockhouse. Don't missss your lucky chance to get the best priicce on discoouunt software! We are the authorized agent and an established reseller offering OEM Licensing software. We possesses all the necessary certificates issued to verify the authenticity of genuine OEM products and granting the right for us to resell OEM software products.    Super Cheaep MICR0S0FT AD0BE & all kinds.. Cliickk here to enjoy our Superb Discounnt!    take me down     \""
      ]
     },
     "execution_count": 32,
     "metadata": {},
     "output_type": "execute_result"
    }
   ],
   "source": [
    "spam_body_text[5]"
   ]
  },
  {
   "cell_type": "markdown",
   "metadata": {},
   "source": [
    "# Create dataframe"
   ]
  },
  {
   "cell_type": "code",
   "execution_count": 33,
   "metadata": {
    "collapsed": false
   },
   "outputs": [],
   "source": [
    "raw_spam = pd.DataFrame(spam_body_text, columns=[\"text\"])"
   ]
  },
  {
   "cell_type": "code",
   "execution_count": 34,
   "metadata": {
    "collapsed": true
   },
   "outputs": [],
   "source": [
    "raw_spam['Spam'] = pd.Series([1 for x in range(len(raw_spam.index))], index=raw_spam.index)"
   ]
  },
  {
   "cell_type": "code",
   "execution_count": 35,
   "metadata": {
    "collapsed": false
   },
   "outputs": [
    {
     "data": {
      "text/html": [
       "<div>\n",
       "<table border=\"1\" class=\"dataframe\">\n",
       "  <thead>\n",
       "    <tr style=\"text-align: right;\">\n",
       "      <th></th>\n",
       "      <th>text</th>\n",
       "      <th>Spam</th>\n",
       "    </tr>\n",
       "  </thead>\n",
       "  <tbody>\n",
       "    <tr>\n",
       "      <th>0</th>\n",
       "      <td>shakedown NEWSLETTER stop NEWS bushel ISSUE ...</td>\n",
       "      <td>1</td>\n",
       "    </tr>\n",
       "    <tr>\n",
       "      <th>1</th>\n",
       "      <td>Your [m]ortgage application was approved. You...</td>\n",
       "      <td>1</td>\n",
       "    </tr>\n",
       "    <tr>\n",
       "      <th>2</th>\n",
       "      <td>TOP quality software:  Special Offer #1:  Wind...</td>\n",
       "      <td>1</td>\n",
       "    </tr>\n",
       "    <tr>\n",
       "      <th>3</th>\n",
       "      <td>Promotional Newsletter                      ...</td>\n",
       "      <td>1</td>\n",
       "    </tr>\n",
       "    <tr>\n",
       "      <th>4</th>\n",
       "      <td>- Flyer   A:hover {color: #FF0000}         ...</td>\n",
       "      <td>1</td>\n",
       "    </tr>\n",
       "    <tr>\n",
       "      <th>5</th>\n",
       "      <td>Cheap softtwares for you all are Origina...</td>\n",
       "      <td>1</td>\n",
       "    </tr>\n",
       "    <tr>\n",
       "      <th>6</th>\n",
       "      <td>Dear Friend REQUEST FOR URGENT BUSINESS ASSIST...</td>\n",
       "      <td>1</td>\n",
       "    </tr>\n",
       "    <tr>\n",
       "      <th>7</th>\n",
       "      <td>I need you     ;        ;   ;   ;   ;   ;   ...</td>\n",
       "      <td>1</td>\n",
       "    </tr>\n",
       "    <tr>\n",
       "      <th>8</th>\n",
       "      <td>basalt deducible oaken fafnir hamlin uncle  ...</td>\n",
       "      <td>1</td>\n",
       "    </tr>\n",
       "    <tr>\n",
       "      <th>9</th>\n",
       "      <td>broadside outlay spores devoted vexing  kicke...</td>\n",
       "      <td>1</td>\n",
       "    </tr>\n",
       "    <tr>\n",
       "      <th>10</th>\n",
       "      <td>Have a house?..Want a new house?This is awesom...</td>\n",
       "      <td>1</td>\n",
       "    </tr>\n",
       "    <tr>\n",
       "      <th>11</th>\n",
       "      <td>The permanent fix to Pe nis Enla rgement   L...</td>\n",
       "      <td>1</td>\n",
       "    </tr>\n",
       "    <tr>\n",
       "      <th>12</th>\n",
       "      <td>A permanent solution to Pe nis Gro wth   LIM...</td>\n",
       "      <td>1</td>\n",
       "    </tr>\n",
       "    <tr>\n",
       "      <th>13</th>\n",
       "      <td>GreetingsI am Benedicta Lindiwe Hendricks (Mrs...</td>\n",
       "      <td>1</td>\n",
       "    </tr>\n",
       "    <tr>\n",
       "      <th>14</th>\n",
       "      <td>Carolyn regretful watchfully Procrustes godly...</td>\n",
       "      <td>1</td>\n",
       "    </tr>\n",
       "    <tr>\n",
       "      <th>15</th>\n",
       "      <td>HelloWe sent you an email a while ago because ...</td>\n",
       "      <td>1</td>\n",
       "    </tr>\n",
       "    <tr>\n",
       "      <th>16</th>\n",
       "      <td>Hello!Are you interested in trying out this sp...</td>\n",
       "      <td>1</td>\n",
       "    </tr>\n",
       "    <tr>\n",
       "      <th>17</th>\n",
       "      <td>H $ ello    dea 54 r home owne...</td>\n",
       "      <td>1</td>\n",
       "    </tr>\n",
       "    <tr>\n",
       "      <th>18</th>\n",
       "      <td>Manual de Mec�nica de Motos2 CD's repletos de ...</td>\n",
       "      <td>1</td>\n",
       "    </tr>\n",
       "    <tr>\n",
       "      <th>19</th>\n",
       "      <td>There is a 95% chance that your pc is infected...</td>\n",
       "      <td>1</td>\n",
       "    </tr>\n",
       "    <tr>\n",
       "      <th>20</th>\n",
       "      <td>FROM: THE LOTTERY COORDINATORINTERNATIONAL PRO...</td>\n",
       "      <td>1</td>\n",
       "    </tr>\n",
       "    <tr>\n",
       "      <th>21</th>\n",
       "      <td>DALOBICA LOTTO BV.=09=09INTERNATIONAL PROMOTIO...</td>\n",
       "      <td>1</td>\n",
       "    </tr>\n",
       "    <tr>\n",
       "      <th>22</th>\n",
       "      <td>Hello I have a special offer for you...WANT TO...</td>\n",
       "      <td>1</td>\n",
       "    </tr>\n",
       "    <tr>\n",
       "      <th>23</th>\n",
       "      <td>LUCKYDAY LOTTERY INTERNATIONAL HOFGEEST 333110...</td>\n",
       "      <td>1</td>\n",
       "    </tr>\n",
       "    <tr>\n",
       "      <th>24</th>\n",
       "      <td>Manual de Mec�nica de Motos2 CD's repletos de ...</td>\n",
       "      <td>1</td>\n",
       "    </tr>\n",
       "    <tr>\n",
       "      <th>25</th>\n",
       "      <td>tarrin^iscsnoticiblyjschwartzhulmeville.am^.er...</td>\n",
       "      <td>1</td>\n",
       "    </tr>\n",
       "    <tr>\n",
       "      <th>26</th>\n",
       "      <td>Hi I have a special offer available for you at...</td>\n",
       "      <td>1</td>\n",
       "    </tr>\n",
       "    <tr>\n",
       "      <th>27</th>\n",
       "      <td>HiWe have a new offer for you. Buy cheap Viagr...</td>\n",
       "      <td>1</td>\n",
       "    </tr>\n",
       "    <tr>\n",
       "      <th>28</th>\n",
       "      <td>Dear CheapSoft CustomerMy name is Andrea Decke...</td>\n",
       "      <td>1</td>\n",
       "    </tr>\n",
       "    <tr>\n",
       "      <th>29</th>\n",
       "      <td>PACIFIC INTERNATIONAL LOTTERY ORGANISATION.FRO...</td>\n",
       "      <td>1</td>\n",
       "    </tr>\n",
       "    <tr>\n",
       "      <th>...</th>\n",
       "      <td>...</td>\n",
       "      <td>...</td>\n",
       "    </tr>\n",
       "    <tr>\n",
       "      <th>32818</th>\n",
       "      <td>Selling Travel in Today's Economy    Good m...</td>\n",
       "      <td>1</td>\n",
       "    </tr>\n",
       "    <tr>\n",
       "      <th>32819</th>\n",
       "      <td>WE NEED HELP. We are a 14 year old fortune 500...</td>\n",
       "      <td>1</td>\n",
       "    </tr>\n",
       "    <tr>\n",
       "      <th>32820</th>\n",
       "      <td>Big and big                                 ...</td>\n",
       "      <td>1</td>\n",
       "    </tr>\n",
       "    <tr>\n",
       "      <th>32821</th>\n",
       "      <td>mailv06c.gif                                ...</td>\n",
       "      <td>1</td>\n",
       "    </tr>\n",
       "    <tr>\n",
       "      <th>32822</th>\n",
       "      <td>Web Pages Lo=ad 300% F...</td>\n",
       "      <td>1</td>\n",
       "    </tr>\n",
       "    <tr>\n",
       "      <th>32823</th>\n",
       "      <td>WE NEED HELP. We are a 14 year old fortune 500...</td>\n",
       "      <td>1</td>\n",
       "    </tr>\n",
       "    <tr>\n",
       "      <th>32824</th>\n",
       "      <td>Opportunity is knocking. Why?Because mortgage ...</td>\n",
       "      <td>1</td>\n",
       "    </tr>\n",
       "    <tr>\n",
       "      <th>32825</th>\n",
       "      <td>Untitled Document                          D...</td>\n",
       "      <td>1</td>\n",
       "    </tr>\n",
       "    <tr>\n",
       "      <th>32826</th>\n",
       "      <td>Mother Natures all Natural Marital Aid ...</td>\n",
       "      <td>1</td>\n",
       "    </tr>\n",
       "    <tr>\n",
       "      <th>32827</th>\n",
       "      <td>AUTOMATED HOME BASED BUSINESS        ONLINE...</td>\n",
       "      <td>1</td>\n",
       "    </tr>\n",
       "    <tr>\n",
       "      <th>32828</th>\n",
       "      <td>Dear our GuestsEXPLORE TURKEY WITH ASTARTETOUR...</td>\n",
       "      <td>1</td>\n",
       "    </tr>\n",
       "    <tr>\n",
       "      <th>32829</th>\n",
       "      <td>New Page 1    FREE SERVICE   ;    Mortgage ...</td>\n",
       "      <td>1</td>\n",
       "    </tr>\n",
       "    <tr>\n",
       "      <th>32830</th>\n",
       "      <td>We want to thank you for your past =bus...</td>\n",
       "      <td>1</td>\n",
       "    </tr>\n",
       "    <tr>\n",
       "      <th>32831</th>\n",
       "      <td>Protect Yourself.Purchase An Extended Warranty...</td>\n",
       "      <td>1</td>\n",
       "    </tr>\n",
       "    <tr>\n",
       "      <th>32832</th>\n",
       "      <td>Renew   TOPSITES LLC  1300 Evans Avenue San ...</td>\n",
       "      <td>1</td>\n",
       "    </tr>\n",
       "    <tr>\n",
       "      <th>32833</th>\n",
       "      <td>Friend We have recently been introduced to an ...</td>\n",
       "      <td>1</td>\n",
       "    </tr>\n",
       "    <tr>\n",
       "      <th>32834</th>\n",
       "      <td>mailv05a.gif                           You a...</td>\n",
       "      <td>1</td>\n",
       "    </tr>\n",
       "    <tr>\n",
       "      <th>32835</th>\n",
       "      <td>Time is running out  =             O  ur co...</td>\n",
       "      <td>1</td>\n",
       "    </tr>\n",
       "    <tr>\n",
       "      <th>32836</th>\n",
       "      <td>I discovered jmason.org in Yahoo my favorite d...</td>\n",
       "      <td>1</td>\n",
       "    </tr>\n",
       "    <tr>\n",
       "      <th>32837</th>\n",
       "      <td>Hello -You get emails every day offering to sh...</td>\n",
       "      <td>1</td>\n",
       "    </tr>\n",
       "    <tr>\n",
       "      <th>32838</th>\n",
       "      <td>Do You Want To Make $1000 Or More Per Week? If...</td>\n",
       "      <td>1</td>\n",
       "    </tr>\n",
       "    <tr>\n",
       "      <th>32839</th>\n",
       "      <td>This message was not sent to you unsolicit...</td>\n",
       "      <td>1</td>\n",
       "    </tr>\n",
       "    <tr>\n",
       "      <th>32840</th>\n",
       "      <td>----------------------------------------------...</td>\n",
       "      <td>1</td>\n",
       "    </tr>\n",
       "    <tr>\n",
       "      <th>32841</th>\n",
       "      <td>Lose weight while building lean muscle m...</td>\n",
       "      <td>1</td>\n",
       "    </tr>\n",
       "    <tr>\n",
       "      <th>32842</th>\n",
       "      <td>Dear jm@netnoteinc.com : Did you miss out ...</td>\n",
       "      <td>1</td>\n",
       "    </tr>\n",
       "    <tr>\n",
       "      <th>32843</th>\n",
       "      <td>Want To Be Your Own Boss?                ;  ...</td>\n",
       "      <td>1</td>\n",
       "    </tr>\n",
       "    <tr>\n",
       "      <th>32844</th>\n",
       "      <td>Preferred Non-Smoker Rates for Smokers   =20...</td>\n",
       "      <td>1</td>\n",
       "    </tr>\n",
       "    <tr>\n",
       "      <th>32845</th>\n",
       "      <td>Dear SubscriberIf I could show you a way to ge...</td>\n",
       "      <td>1</td>\n",
       "    </tr>\n",
       "    <tr>\n",
       "      <th>32846</th>\n",
       "      <td>****Mid-Summer Customer Appreciation SALE!****...</td>\n",
       "      <td>1</td>\n",
       "    </tr>\n",
       "    <tr>\n",
       "      <th>32847</th>\n",
       "      <td>ATTN:SIR/MADAN              STRICTLY CONFIDENT...</td>\n",
       "      <td>1</td>\n",
       "    </tr>\n",
       "  </tbody>\n",
       "</table>\n",
       "<p>32848 rows × 2 columns</p>\n",
       "</div>"
      ],
      "text/plain": [
       "                                                    text  Spam\n",
       "0        shakedown NEWSLETTER stop NEWS bushel ISSUE ...     1\n",
       "1       Your [m]ortgage application was approved. You...     1\n",
       "2      TOP quality software:  Special Offer #1:  Wind...     1\n",
       "3        Promotional Newsletter                      ...     1\n",
       "4         - Flyer   A:hover {color: #FF0000}         ...     1\n",
       "5            Cheap softtwares for you all are Origina...     1\n",
       "6      Dear Friend REQUEST FOR URGENT BUSINESS ASSIST...     1\n",
       "7        I need you     ;        ;   ;   ;   ;   ;   ...     1\n",
       "8        basalt deducible oaken fafnir hamlin uncle  ...     1\n",
       "9       broadside outlay spores devoted vexing  kicke...     1\n",
       "10     Have a house?..Want a new house?This is awesom...     1\n",
       "11       The permanent fix to Pe nis Enla rgement   L...     1\n",
       "12       A permanent solution to Pe nis Gro wth   LIM...     1\n",
       "13     GreetingsI am Benedicta Lindiwe Hendricks (Mrs...     1\n",
       "14      Carolyn regretful watchfully Procrustes godly...     1\n",
       "15     HelloWe sent you an email a while ago because ...     1\n",
       "16     Hello!Are you interested in trying out this sp...     1\n",
       "17                     H $ ello    dea 54 r home owne...     1\n",
       "18     Manual de Mec�nica de Motos2 CD's repletos de ...     1\n",
       "19     There is a 95% chance that your pc is infected...     1\n",
       "20     FROM: THE LOTTERY COORDINATORINTERNATIONAL PRO...     1\n",
       "21     DALOBICA LOTTO BV.=09=09INTERNATIONAL PROMOTIO...     1\n",
       "22     Hello I have a special offer for you...WANT TO...     1\n",
       "23     LUCKYDAY LOTTERY INTERNATIONAL HOFGEEST 333110...     1\n",
       "24     Manual de Mec�nica de Motos2 CD's repletos de ...     1\n",
       "25     tarrin^iscsnoticiblyjschwartzhulmeville.am^.er...     1\n",
       "26     Hi I have a special offer available for you at...     1\n",
       "27     HiWe have a new offer for you. Buy cheap Viagr...     1\n",
       "28     Dear CheapSoft CustomerMy name is Andrea Decke...     1\n",
       "29     PACIFIC INTERNATIONAL LOTTERY ORGANISATION.FRO...     1\n",
       "...                                                  ...   ...\n",
       "32818     Selling Travel in Today's Economy    Good m...     1\n",
       "32819  WE NEED HELP. We are a 14 year old fortune 500...     1\n",
       "32820    Big and big                                 ...     1\n",
       "32821    mailv06c.gif                                ...     1\n",
       "32822                          Web Pages Lo=ad 300% F...     1\n",
       "32823  WE NEED HELP. We are a 14 year old fortune 500...     1\n",
       "32824  Opportunity is knocking. Why?Because mortgage ...     1\n",
       "32825    Untitled Document                          D...     1\n",
       "32826         Mother Natures all Natural Marital Aid ...     1\n",
       "32827     AUTOMATED HOME BASED BUSINESS        ONLINE...     1\n",
       "32828  Dear our GuestsEXPLORE TURKEY WITH ASTARTETOUR...     1\n",
       "32829     New Page 1    FREE SERVICE   ;    Mortgage ...     1\n",
       "32830         We want to thank you for your past =bus...     1\n",
       "32831  Protect Yourself.Purchase An Extended Warranty...     1\n",
       "32832    Renew   TOPSITES LLC  1300 Evans Avenue San ...     1\n",
       "32833  Friend We have recently been introduced to an ...     1\n",
       "32834    mailv05a.gif                           You a...     1\n",
       "32835     Time is running out  =             O  ur co...     1\n",
       "32836  I discovered jmason.org in Yahoo my favorite d...     1\n",
       "32837  Hello -You get emails every day offering to sh...     1\n",
       "32838  Do You Want To Make $1000 Or More Per Week? If...     1\n",
       "32839      This message was not sent to you unsolicit...     1\n",
       "32840  ----------------------------------------------...     1\n",
       "32841        Lose weight while building lean muscle m...     1\n",
       "32842      Dear jm@netnoteinc.com : Did you miss out ...     1\n",
       "32843    Want To Be Your Own Boss?                ;  ...     1\n",
       "32844    Preferred Non-Smoker Rates for Smokers   =20...     1\n",
       "32845  Dear SubscriberIf I could show you a way to ge...     1\n",
       "32846  ****Mid-Summer Customer Appreciation SALE!****...     1\n",
       "32847  ATTN:SIR/MADAN              STRICTLY CONFIDENT...     1\n",
       "\n",
       "[32848 rows x 2 columns]"
      ]
     },
     "execution_count": 35,
     "metadata": {},
     "output_type": "execute_result"
    }
   ],
   "source": [
    "raw_spam"
   ]
  },
  {
   "cell_type": "code",
   "execution_count": 36,
   "metadata": {
    "collapsed": false
   },
   "outputs": [],
   "source": [
    "raw_ham = pd.DataFrame(ham_data_text, columns=[\"text\"])"
   ]
  },
  {
   "cell_type": "code",
   "execution_count": 37,
   "metadata": {
    "collapsed": true
   },
   "outputs": [],
   "source": [
    "raw_ham['Spam'] = pd.Series([0 for x in range(len(raw_ham.index))], index=raw_ham.index)"
   ]
  },
  {
   "cell_type": "code",
   "execution_count": 38,
   "metadata": {
    "collapsed": false
   },
   "outputs": [
    {
     "data": {
      "text/html": [
       "<div>\n",
       "<table border=\"1\" class=\"dataframe\">\n",
       "  <thead>\n",
       "    <tr style=\"text-align: right;\">\n",
       "      <th></th>\n",
       "      <th>text</th>\n",
       "      <th>Spam</th>\n",
       "    </tr>\n",
       "  </thead>\n",
       "  <tbody>\n",
       "    <tr>\n",
       "      <th>0</th>\n",
       "      <td>Guys, attached you will find a final cut on th...</td>\n",
       "      <td>0</td>\n",
       "    </tr>\n",
       "    <tr>\n",
       "      <th>1</th>\n",
       "      <td>I am still in need of the information regardin...</td>\n",
       "      <td>0</td>\n",
       "    </tr>\n",
       "    <tr>\n",
       "      <th>2</th>\n",
       "      <td>Attached is a file containing all cost centers...</td>\n",
       "      <td>0</td>\n",
       "    </tr>\n",
       "    <tr>\n",
       "      <th>3</th>\n",
       "      <td>Sarah, Below is our high level explanation of ...</td>\n",
       "      <td>0</td>\n",
       "    </tr>\n",
       "    <tr>\n",
       "      <th>4</th>\n",
       "      <td>Sally - I will check into the meaning of this ...</td>\n",
       "      <td>0</td>\n",
       "    </tr>\n",
       "    <tr>\n",
       "      <th>5</th>\n",
       "      <td>Please note that earnings and headcount templa...</td>\n",
       "      <td>0</td>\n",
       "    </tr>\n",
       "    <tr>\n",
       "      <th>6</th>\n",
       "      <td>I wanted to provide an update on our progress ...</td>\n",
       "      <td>0</td>\n",
       "    </tr>\n",
       "    <tr>\n",
       "      <th>7</th>\n",
       "      <td>Rob,  Thank you for bringing this to my attent...</td>\n",
       "      <td>0</td>\n",
       "    </tr>\n",
       "    <tr>\n",
       "      <th>8</th>\n",
       "      <td>Susan, I understand that Isabel Recindes, Drew...</td>\n",
       "      <td>0</td>\n",
       "    </tr>\n",
       "    <tr>\n",
       "      <th>9</th>\n",
       "      <td>We are making progress but we still need 12 ad...</td>\n",
       "      <td>0</td>\n",
       "    </tr>\n",
       "    <tr>\n",
       "      <th>10</th>\n",
       "      <td>URGENT  The Associate and Analyst Recruiting D...</td>\n",
       "      <td>0</td>\n",
       "    </tr>\n",
       "    <tr>\n",
       "      <th>11</th>\n",
       "      <td>URGENT  The Associate and Analyst Recruiting D...</td>\n",
       "      <td>0</td>\n",
       "    </tr>\n",
       "    <tr>\n",
       "      <th>12</th>\n",
       "      <td>Just a reminder we will have the initial meeti...</td>\n",
       "      <td>0</td>\n",
       "    </tr>\n",
       "    <tr>\n",
       "      <th>13</th>\n",
       "      <td>We will kick off the initial meeting of the EN...</td>\n",
       "      <td>0</td>\n",
       "    </tr>\n",
       "    <tr>\n",
       "      <th>14</th>\n",
       "      <td>Attached is a current listing of attendees for...</td>\n",
       "      <td>0</td>\n",
       "    </tr>\n",
       "    <tr>\n",
       "      <th>15</th>\n",
       "      <td>CORRECTION TO SUPER SATURDAY DATES  Two dates ...</td>\n",
       "      <td>0</td>\n",
       "    </tr>\n",
       "    <tr>\n",
       "      <th>16</th>\n",
       "      <td>Enron Managers, Directors, Vice Presidents and...</td>\n",
       "      <td>0</td>\n",
       "    </tr>\n",
       "    <tr>\n",
       "      <th>17</th>\n",
       "      <td>Sally: It has been a long time and I hope all ...</td>\n",
       "      <td>0</td>\n",
       "    </tr>\n",
       "    <tr>\n",
       "      <th>18</th>\n",
       "      <td>A quick update on the \"inaugural\" Analyst Orie...</td>\n",
       "      <td>0</td>\n",
       "    </tr>\n",
       "    <tr>\n",
       "      <th>19</th>\n",
       "      <td>I want to thank all of you for participation i...</td>\n",
       "      <td>0</td>\n",
       "    </tr>\n",
       "    <tr>\n",
       "      <th>20</th>\n",
       "      <td>As all of you know we are in the midst...</td>\n",
       "      <td>0</td>\n",
       "    </tr>\n",
       "    <tr>\n",
       "      <th>21</th>\n",
       "      <td>Attached are the Super Saturday results (offer...</td>\n",
       "      <td>0</td>\n",
       "    </tr>\n",
       "    <tr>\n",
       "      <th>22</th>\n",
       "      <td>I have asked Shelly Jones to send me a complet...</td>\n",
       "      <td>0</td>\n",
       "    </tr>\n",
       "    <tr>\n",
       "      <th>23</th>\n",
       "      <td>Please see the attached document from the Asso...</td>\n",
       "      <td>0</td>\n",
       "    </tr>\n",
       "    <tr>\n",
       "      <th>24</th>\n",
       "      <td>Sally,  I had talked to Ted and he mentioned t...</td>\n",
       "      <td>0</td>\n",
       "    </tr>\n",
       "    <tr>\n",
       "      <th>25</th>\n",
       "      <td>Sally,  Attached is the detail of the analysts...</td>\n",
       "      <td>0</td>\n",
       "    </tr>\n",
       "    <tr>\n",
       "      <th>26</th>\n",
       "      <td>For your information, the spreadsheets attache...</td>\n",
       "      <td>0</td>\n",
       "    </tr>\n",
       "    <tr>\n",
       "      <th>27</th>\n",
       "      <td>This is an FYI.   The Associate/Analyst progra...</td>\n",
       "      <td>0</td>\n",
       "    </tr>\n",
       "    <tr>\n",
       "      <th>28</th>\n",
       "      <td>Please click on the below link to access a mes...</td>\n",
       "      <td>0</td>\n",
       "    </tr>\n",
       "    <tr>\n",
       "      <th>29</th>\n",
       "      <td>Please click on the below link to access a mes...</td>\n",
       "      <td>0</td>\n",
       "    </tr>\n",
       "    <tr>\n",
       "      <th>...</th>\n",
       "      <td>...</td>\n",
       "      <td>...</td>\n",
       "    </tr>\n",
       "    <tr>\n",
       "      <th>19059</th>\n",
       "      <td>Deal number for desk-desk, 676663, on peak, SP...</td>\n",
       "      <td>0</td>\n",
       "    </tr>\n",
       "    <tr>\n",
       "      <th>19060</th>\n",
       "      <td>EOL Deals  From: 7/1/2001   To: 7/5/2001   EnP...</td>\n",
       "      <td>0</td>\n",
       "    </tr>\n",
       "    <tr>\n",
       "      <th>19061</th>\n",
       "      <td>EOL Deals  From: 7/1/2001   To: 7/3/2001   EnP...</td>\n",
       "      <td>0</td>\n",
       "    </tr>\n",
       "    <tr>\n",
       "      <th>19062</th>\n",
       "      <td>I just wanted to forward on to you; \"TFS let w...</td>\n",
       "      <td>0</td>\n",
       "    </tr>\n",
       "    <tr>\n",
       "      <th>19063</th>\n",
       "      <td>EOL Deals  From: 7/1/2001   To: 7/2/2001   EnP...</td>\n",
       "      <td>0</td>\n",
       "    </tr>\n",
       "    <tr>\n",
       "      <th>19064</th>\n",
       "      <td>EOL Deals  From: 6/1/2001   To: 6/28/2001   En...</td>\n",
       "      <td>0</td>\n",
       "    </tr>\n",
       "    <tr>\n",
       "      <th>19065</th>\n",
       "      <td>Des...</td>\n",
       "      <td>0</td>\n",
       "    </tr>\n",
       "    <tr>\n",
       "      <th>19066</th>\n",
       "      <td>Please see short message below from Evelyn Met...</td>\n",
       "      <td>0</td>\n",
       "    </tr>\n",
       "    <tr>\n",
       "      <th>19067</th>\n",
       "      <td>Mr. Williams III your deal number for the swap...</td>\n",
       "      <td>0</td>\n",
       "    </tr>\n",
       "    <tr>\n",
       "      <th>19068</th>\n",
       "      <td>Sorry for the delay Mr. Williams III.  The dea...</td>\n",
       "      <td>0</td>\n",
       "    </tr>\n",
       "    <tr>\n",
       "      <th>19069</th>\n",
       "      <td>EOL Deals  From: 6/1/2001   To: 6/26/2001   En...</td>\n",
       "      <td>0</td>\n",
       "    </tr>\n",
       "    <tr>\n",
       "      <th>19070</th>\n",
       "      <td>EOL Deals  From: 6/1/2001   To: 6/25/2001   En...</td>\n",
       "      <td>0</td>\n",
       "    </tr>\n",
       "    <tr>\n",
       "      <th>19071</th>\n",
       "      <td>Good Afternoon Ladies  I am taking a class tod...</td>\n",
       "      <td>0</td>\n",
       "    </tr>\n",
       "    <tr>\n",
       "      <th>19072</th>\n",
       "      <td>Good Morning!  Due to a minor over-haul, your ...</td>\n",
       "      <td>0</td>\n",
       "    </tr>\n",
       "    <tr>\n",
       "      <th>19073</th>\n",
       "      <td>EOL Deals  From: 6/1/2001   To: 6/19/2001   En...</td>\n",
       "      <td>0</td>\n",
       "    </tr>\n",
       "    <tr>\n",
       "      <th>19074</th>\n",
       "      <td>Cal-Imbalance deal is 650452. Inter-desk swap ...</td>\n",
       "      <td>0</td>\n",
       "    </tr>\n",
       "    <tr>\n",
       "      <th>19075</th>\n",
       "      <td>Due to CAISO roll out of the new WEB based OA...</td>\n",
       "      <td>0</td>\n",
       "    </tr>\n",
       "    <tr>\n",
       "      <th>19076</th>\n",
       "      <td>Attached are the Total Transfer Capabilities (...</td>\n",
       "      <td>0</td>\n",
       "    </tr>\n",
       "    <tr>\n",
       "      <th>19077</th>\n",
       "      <td>Attached are the Total Transfer Capabilities (...</td>\n",
       "      <td>0</td>\n",
       "    </tr>\n",
       "    <tr>\n",
       "      <th>19078</th>\n",
       "      <td>fyi. ---------------------- Forwarded by Tim B...</td>\n",
       "      <td>0</td>\n",
       "    </tr>\n",
       "    <tr>\n",
       "      <th>19079</th>\n",
       "      <td>Over the last couple of years we have had nume...</td>\n",
       "      <td>0</td>\n",
       "    </tr>\n",
       "    <tr>\n",
       "      <th>19080</th>\n",
       "      <td>All of us are aware of the energy crisis confr...</td>\n",
       "      <td>0</td>\n",
       "    </tr>\n",
       "    <tr>\n",
       "      <th>19081</th>\n",
       "      <td>The last couple of days on eol have been amazi...</td>\n",
       "      <td>0</td>\n",
       "    </tr>\n",
       "    <tr>\n",
       "      <th>19082</th>\n",
       "      <td>---------------------- Forwarded by Tim Belde...</td>\n",
       "      <td>0</td>\n",
       "    </tr>\n",
       "    <tr>\n",
       "      <th>19083</th>\n",
       "      <td>---------------------- Forwarded by Tim Belde...</td>\n",
       "      <td>0</td>\n",
       "    </tr>\n",
       "    <tr>\n",
       "      <th>19084</th>\n",
       "      <td>for your reading pleasure.  tim --------------...</td>\n",
       "      <td>0</td>\n",
       "    </tr>\n",
       "    <tr>\n",
       "      <th>19085</th>\n",
       "      <td>Congressional Republicans Draft Energy Bill ...</td>\n",
       "      <td>0</td>\n",
       "    </tr>\n",
       "    <tr>\n",
       "      <th>19086</th>\n",
       "      <td>should we be doing this? ---------------------...</td>\n",
       "      <td>0</td>\n",
       "    </tr>\n",
       "    <tr>\n",
       "      <th>19087</th>\n",
       "      <td>I will be taking Tuesday and Friday of this we...</td>\n",
       "      <td>0</td>\n",
       "    </tr>\n",
       "    <tr>\n",
       "      <th>19088</th>\n",
       "      <td>I am trying to put together a reference sheet ...</td>\n",
       "      <td>0</td>\n",
       "    </tr>\n",
       "  </tbody>\n",
       "</table>\n",
       "<p>19089 rows × 2 columns</p>\n",
       "</div>"
      ],
      "text/plain": [
       "                                                    text  Spam\n",
       "0      Guys, attached you will find a final cut on th...     0\n",
       "1      I am still in need of the information regardin...     0\n",
       "2      Attached is a file containing all cost centers...     0\n",
       "3      Sarah, Below is our high level explanation of ...     0\n",
       "4      Sally - I will check into the meaning of this ...     0\n",
       "5      Please note that earnings and headcount templa...     0\n",
       "6      I wanted to provide an update on our progress ...     0\n",
       "7      Rob,  Thank you for bringing this to my attent...     0\n",
       "8      Susan, I understand that Isabel Recindes, Drew...     0\n",
       "9      We are making progress but we still need 12 ad...     0\n",
       "10     URGENT  The Associate and Analyst Recruiting D...     0\n",
       "11     URGENT  The Associate and Analyst Recruiting D...     0\n",
       "12     Just a reminder we will have the initial meeti...     0\n",
       "13     We will kick off the initial meeting of the EN...     0\n",
       "14     Attached is a current listing of attendees for...     0\n",
       "15     CORRECTION TO SUPER SATURDAY DATES  Two dates ...     0\n",
       "16     Enron Managers, Directors, Vice Presidents and...     0\n",
       "17     Sally: It has been a long time and I hope all ...     0\n",
       "18     A quick update on the \"inaugural\" Analyst Orie...     0\n",
       "19     I want to thank all of you for participation i...     0\n",
       "20             As all of you know we are in the midst...     0\n",
       "21     Attached are the Super Saturday results (offer...     0\n",
       "22     I have asked Shelly Jones to send me a complet...     0\n",
       "23     Please see the attached document from the Asso...     0\n",
       "24     Sally,  I had talked to Ted and he mentioned t...     0\n",
       "25     Sally,  Attached is the detail of the analysts...     0\n",
       "26     For your information, the spreadsheets attache...     0\n",
       "27     This is an FYI.   The Associate/Analyst progra...     0\n",
       "28     Please click on the below link to access a mes...     0\n",
       "29     Please click on the below link to access a mes...     0\n",
       "...                                                  ...   ...\n",
       "19059  Deal number for desk-desk, 676663, on peak, SP...     0\n",
       "19060  EOL Deals  From: 7/1/2001   To: 7/5/2001   EnP...     0\n",
       "19061  EOL Deals  From: 7/1/2001   To: 7/3/2001   EnP...     0\n",
       "19062  I just wanted to forward on to you; \"TFS let w...     0\n",
       "19063  EOL Deals  From: 7/1/2001   To: 7/2/2001   EnP...     0\n",
       "19064  EOL Deals  From: 6/1/2001   To: 6/28/2001   En...     0\n",
       "19065                                             Des...     0\n",
       "19066  Please see short message below from Evelyn Met...     0\n",
       "19067  Mr. Williams III your deal number for the swap...     0\n",
       "19068  Sorry for the delay Mr. Williams III.  The dea...     0\n",
       "19069  EOL Deals  From: 6/1/2001   To: 6/26/2001   En...     0\n",
       "19070  EOL Deals  From: 6/1/2001   To: 6/25/2001   En...     0\n",
       "19071  Good Afternoon Ladies  I am taking a class tod...     0\n",
       "19072  Good Morning!  Due to a minor over-haul, your ...     0\n",
       "19073  EOL Deals  From: 6/1/2001   To: 6/19/2001   En...     0\n",
       "19074  Cal-Imbalance deal is 650452. Inter-desk swap ...     0\n",
       "19075   Due to CAISO roll out of the new WEB based OA...     0\n",
       "19076  Attached are the Total Transfer Capabilities (...     0\n",
       "19077  Attached are the Total Transfer Capabilities (...     0\n",
       "19078  fyi. ---------------------- Forwarded by Tim B...     0\n",
       "19079  Over the last couple of years we have had nume...     0\n",
       "19080  All of us are aware of the energy crisis confr...     0\n",
       "19081  The last couple of days on eol have been amazi...     0\n",
       "19082   ---------------------- Forwarded by Tim Belde...     0\n",
       "19083   ---------------------- Forwarded by Tim Belde...     0\n",
       "19084  for your reading pleasure.  tim --------------...     0\n",
       "19085    Congressional Republicans Draft Energy Bill ...     0\n",
       "19086  should we be doing this? ---------------------...     0\n",
       "19087  I will be taking Tuesday and Friday of this we...     0\n",
       "19088  I am trying to put together a reference sheet ...     0\n",
       "\n",
       "[19089 rows x 2 columns]"
      ]
     },
     "execution_count": 38,
     "metadata": {},
     "output_type": "execute_result"
    }
   ],
   "source": [
    "raw_ham"
   ]
  },
  {
   "cell_type": "code",
   "execution_count": 39,
   "metadata": {
    "collapsed": true
   },
   "outputs": [],
   "source": [
    "frames = [raw_spam,raw_ham]\n",
    "mail_df = pd.concat(frames)"
   ]
  },
  {
   "cell_type": "code",
   "execution_count": 40,
   "metadata": {
    "collapsed": false
   },
   "outputs": [
    {
     "data": {
      "text/html": [
       "<div>\n",
       "<table border=\"1\" class=\"dataframe\">\n",
       "  <thead>\n",
       "    <tr style=\"text-align: right;\">\n",
       "      <th></th>\n",
       "      <th>text</th>\n",
       "      <th>Spam</th>\n",
       "    </tr>\n",
       "  </thead>\n",
       "  <tbody>\n",
       "    <tr>\n",
       "      <th>0</th>\n",
       "      <td>shakedown NEWSLETTER stop NEWS bushel ISSUE ...</td>\n",
       "      <td>1</td>\n",
       "    </tr>\n",
       "    <tr>\n",
       "      <th>1</th>\n",
       "      <td>Your [m]ortgage application was approved. You...</td>\n",
       "      <td>1</td>\n",
       "    </tr>\n",
       "    <tr>\n",
       "      <th>2</th>\n",
       "      <td>TOP quality software:  Special Offer #1:  Wind...</td>\n",
       "      <td>1</td>\n",
       "    </tr>\n",
       "    <tr>\n",
       "      <th>3</th>\n",
       "      <td>Promotional Newsletter                      ...</td>\n",
       "      <td>1</td>\n",
       "    </tr>\n",
       "    <tr>\n",
       "      <th>4</th>\n",
       "      <td>- Flyer   A:hover {color: #FF0000}         ...</td>\n",
       "      <td>1</td>\n",
       "    </tr>\n",
       "    <tr>\n",
       "      <th>5</th>\n",
       "      <td>Cheap softtwares for you all are Origina...</td>\n",
       "      <td>1</td>\n",
       "    </tr>\n",
       "    <tr>\n",
       "      <th>6</th>\n",
       "      <td>Dear Friend REQUEST FOR URGENT BUSINESS ASSIST...</td>\n",
       "      <td>1</td>\n",
       "    </tr>\n",
       "    <tr>\n",
       "      <th>7</th>\n",
       "      <td>I need you     ;        ;   ;   ;   ;   ;   ...</td>\n",
       "      <td>1</td>\n",
       "    </tr>\n",
       "    <tr>\n",
       "      <th>8</th>\n",
       "      <td>basalt deducible oaken fafnir hamlin uncle  ...</td>\n",
       "      <td>1</td>\n",
       "    </tr>\n",
       "    <tr>\n",
       "      <th>9</th>\n",
       "      <td>broadside outlay spores devoted vexing  kicke...</td>\n",
       "      <td>1</td>\n",
       "    </tr>\n",
       "    <tr>\n",
       "      <th>10</th>\n",
       "      <td>Have a house?..Want a new house?This is awesom...</td>\n",
       "      <td>1</td>\n",
       "    </tr>\n",
       "    <tr>\n",
       "      <th>11</th>\n",
       "      <td>The permanent fix to Pe nis Enla rgement   L...</td>\n",
       "      <td>1</td>\n",
       "    </tr>\n",
       "    <tr>\n",
       "      <th>12</th>\n",
       "      <td>A permanent solution to Pe nis Gro wth   LIM...</td>\n",
       "      <td>1</td>\n",
       "    </tr>\n",
       "    <tr>\n",
       "      <th>13</th>\n",
       "      <td>GreetingsI am Benedicta Lindiwe Hendricks (Mrs...</td>\n",
       "      <td>1</td>\n",
       "    </tr>\n",
       "    <tr>\n",
       "      <th>14</th>\n",
       "      <td>Carolyn regretful watchfully Procrustes godly...</td>\n",
       "      <td>1</td>\n",
       "    </tr>\n",
       "    <tr>\n",
       "      <th>15</th>\n",
       "      <td>HelloWe sent you an email a while ago because ...</td>\n",
       "      <td>1</td>\n",
       "    </tr>\n",
       "    <tr>\n",
       "      <th>16</th>\n",
       "      <td>Hello!Are you interested in trying out this sp...</td>\n",
       "      <td>1</td>\n",
       "    </tr>\n",
       "    <tr>\n",
       "      <th>17</th>\n",
       "      <td>H $ ello    dea 54 r home owne...</td>\n",
       "      <td>1</td>\n",
       "    </tr>\n",
       "    <tr>\n",
       "      <th>18</th>\n",
       "      <td>Manual de Mec�nica de Motos2 CD's repletos de ...</td>\n",
       "      <td>1</td>\n",
       "    </tr>\n",
       "    <tr>\n",
       "      <th>19</th>\n",
       "      <td>There is a 95% chance that your pc is infected...</td>\n",
       "      <td>1</td>\n",
       "    </tr>\n",
       "    <tr>\n",
       "      <th>20</th>\n",
       "      <td>FROM: THE LOTTERY COORDINATORINTERNATIONAL PRO...</td>\n",
       "      <td>1</td>\n",
       "    </tr>\n",
       "    <tr>\n",
       "      <th>21</th>\n",
       "      <td>DALOBICA LOTTO BV.=09=09INTERNATIONAL PROMOTIO...</td>\n",
       "      <td>1</td>\n",
       "    </tr>\n",
       "    <tr>\n",
       "      <th>22</th>\n",
       "      <td>Hello I have a special offer for you...WANT TO...</td>\n",
       "      <td>1</td>\n",
       "    </tr>\n",
       "    <tr>\n",
       "      <th>23</th>\n",
       "      <td>LUCKYDAY LOTTERY INTERNATIONAL HOFGEEST 333110...</td>\n",
       "      <td>1</td>\n",
       "    </tr>\n",
       "    <tr>\n",
       "      <th>24</th>\n",
       "      <td>Manual de Mec�nica de Motos2 CD's repletos de ...</td>\n",
       "      <td>1</td>\n",
       "    </tr>\n",
       "    <tr>\n",
       "      <th>25</th>\n",
       "      <td>tarrin^iscsnoticiblyjschwartzhulmeville.am^.er...</td>\n",
       "      <td>1</td>\n",
       "    </tr>\n",
       "    <tr>\n",
       "      <th>26</th>\n",
       "      <td>Hi I have a special offer available for you at...</td>\n",
       "      <td>1</td>\n",
       "    </tr>\n",
       "    <tr>\n",
       "      <th>27</th>\n",
       "      <td>HiWe have a new offer for you. Buy cheap Viagr...</td>\n",
       "      <td>1</td>\n",
       "    </tr>\n",
       "    <tr>\n",
       "      <th>28</th>\n",
       "      <td>Dear CheapSoft CustomerMy name is Andrea Decke...</td>\n",
       "      <td>1</td>\n",
       "    </tr>\n",
       "    <tr>\n",
       "      <th>29</th>\n",
       "      <td>PACIFIC INTERNATIONAL LOTTERY ORGANISATION.FRO...</td>\n",
       "      <td>1</td>\n",
       "    </tr>\n",
       "    <tr>\n",
       "      <th>...</th>\n",
       "      <td>...</td>\n",
       "      <td>...</td>\n",
       "    </tr>\n",
       "    <tr>\n",
       "      <th>19059</th>\n",
       "      <td>Deal number for desk-desk, 676663, on peak, SP...</td>\n",
       "      <td>0</td>\n",
       "    </tr>\n",
       "    <tr>\n",
       "      <th>19060</th>\n",
       "      <td>EOL Deals  From: 7/1/2001   To: 7/5/2001   EnP...</td>\n",
       "      <td>0</td>\n",
       "    </tr>\n",
       "    <tr>\n",
       "      <th>19061</th>\n",
       "      <td>EOL Deals  From: 7/1/2001   To: 7/3/2001   EnP...</td>\n",
       "      <td>0</td>\n",
       "    </tr>\n",
       "    <tr>\n",
       "      <th>19062</th>\n",
       "      <td>I just wanted to forward on to you; \"TFS let w...</td>\n",
       "      <td>0</td>\n",
       "    </tr>\n",
       "    <tr>\n",
       "      <th>19063</th>\n",
       "      <td>EOL Deals  From: 7/1/2001   To: 7/2/2001   EnP...</td>\n",
       "      <td>0</td>\n",
       "    </tr>\n",
       "    <tr>\n",
       "      <th>19064</th>\n",
       "      <td>EOL Deals  From: 6/1/2001   To: 6/28/2001   En...</td>\n",
       "      <td>0</td>\n",
       "    </tr>\n",
       "    <tr>\n",
       "      <th>19065</th>\n",
       "      <td>Des...</td>\n",
       "      <td>0</td>\n",
       "    </tr>\n",
       "    <tr>\n",
       "      <th>19066</th>\n",
       "      <td>Please see short message below from Evelyn Met...</td>\n",
       "      <td>0</td>\n",
       "    </tr>\n",
       "    <tr>\n",
       "      <th>19067</th>\n",
       "      <td>Mr. Williams III your deal number for the swap...</td>\n",
       "      <td>0</td>\n",
       "    </tr>\n",
       "    <tr>\n",
       "      <th>19068</th>\n",
       "      <td>Sorry for the delay Mr. Williams III.  The dea...</td>\n",
       "      <td>0</td>\n",
       "    </tr>\n",
       "    <tr>\n",
       "      <th>19069</th>\n",
       "      <td>EOL Deals  From: 6/1/2001   To: 6/26/2001   En...</td>\n",
       "      <td>0</td>\n",
       "    </tr>\n",
       "    <tr>\n",
       "      <th>19070</th>\n",
       "      <td>EOL Deals  From: 6/1/2001   To: 6/25/2001   En...</td>\n",
       "      <td>0</td>\n",
       "    </tr>\n",
       "    <tr>\n",
       "      <th>19071</th>\n",
       "      <td>Good Afternoon Ladies  I am taking a class tod...</td>\n",
       "      <td>0</td>\n",
       "    </tr>\n",
       "    <tr>\n",
       "      <th>19072</th>\n",
       "      <td>Good Morning!  Due to a minor over-haul, your ...</td>\n",
       "      <td>0</td>\n",
       "    </tr>\n",
       "    <tr>\n",
       "      <th>19073</th>\n",
       "      <td>EOL Deals  From: 6/1/2001   To: 6/19/2001   En...</td>\n",
       "      <td>0</td>\n",
       "    </tr>\n",
       "    <tr>\n",
       "      <th>19074</th>\n",
       "      <td>Cal-Imbalance deal is 650452. Inter-desk swap ...</td>\n",
       "      <td>0</td>\n",
       "    </tr>\n",
       "    <tr>\n",
       "      <th>19075</th>\n",
       "      <td>Due to CAISO roll out of the new WEB based OA...</td>\n",
       "      <td>0</td>\n",
       "    </tr>\n",
       "    <tr>\n",
       "      <th>19076</th>\n",
       "      <td>Attached are the Total Transfer Capabilities (...</td>\n",
       "      <td>0</td>\n",
       "    </tr>\n",
       "    <tr>\n",
       "      <th>19077</th>\n",
       "      <td>Attached are the Total Transfer Capabilities (...</td>\n",
       "      <td>0</td>\n",
       "    </tr>\n",
       "    <tr>\n",
       "      <th>19078</th>\n",
       "      <td>fyi. ---------------------- Forwarded by Tim B...</td>\n",
       "      <td>0</td>\n",
       "    </tr>\n",
       "    <tr>\n",
       "      <th>19079</th>\n",
       "      <td>Over the last couple of years we have had nume...</td>\n",
       "      <td>0</td>\n",
       "    </tr>\n",
       "    <tr>\n",
       "      <th>19080</th>\n",
       "      <td>All of us are aware of the energy crisis confr...</td>\n",
       "      <td>0</td>\n",
       "    </tr>\n",
       "    <tr>\n",
       "      <th>19081</th>\n",
       "      <td>The last couple of days on eol have been amazi...</td>\n",
       "      <td>0</td>\n",
       "    </tr>\n",
       "    <tr>\n",
       "      <th>19082</th>\n",
       "      <td>---------------------- Forwarded by Tim Belde...</td>\n",
       "      <td>0</td>\n",
       "    </tr>\n",
       "    <tr>\n",
       "      <th>19083</th>\n",
       "      <td>---------------------- Forwarded by Tim Belde...</td>\n",
       "      <td>0</td>\n",
       "    </tr>\n",
       "    <tr>\n",
       "      <th>19084</th>\n",
       "      <td>for your reading pleasure.  tim --------------...</td>\n",
       "      <td>0</td>\n",
       "    </tr>\n",
       "    <tr>\n",
       "      <th>19085</th>\n",
       "      <td>Congressional Republicans Draft Energy Bill ...</td>\n",
       "      <td>0</td>\n",
       "    </tr>\n",
       "    <tr>\n",
       "      <th>19086</th>\n",
       "      <td>should we be doing this? ---------------------...</td>\n",
       "      <td>0</td>\n",
       "    </tr>\n",
       "    <tr>\n",
       "      <th>19087</th>\n",
       "      <td>I will be taking Tuesday and Friday of this we...</td>\n",
       "      <td>0</td>\n",
       "    </tr>\n",
       "    <tr>\n",
       "      <th>19088</th>\n",
       "      <td>I am trying to put together a reference sheet ...</td>\n",
       "      <td>0</td>\n",
       "    </tr>\n",
       "  </tbody>\n",
       "</table>\n",
       "<p>51937 rows × 2 columns</p>\n",
       "</div>"
      ],
      "text/plain": [
       "                                                    text  Spam\n",
       "0        shakedown NEWSLETTER stop NEWS bushel ISSUE ...     1\n",
       "1       Your [m]ortgage application was approved. You...     1\n",
       "2      TOP quality software:  Special Offer #1:  Wind...     1\n",
       "3        Promotional Newsletter                      ...     1\n",
       "4         - Flyer   A:hover {color: #FF0000}         ...     1\n",
       "5            Cheap softtwares for you all are Origina...     1\n",
       "6      Dear Friend REQUEST FOR URGENT BUSINESS ASSIST...     1\n",
       "7        I need you     ;        ;   ;   ;   ;   ;   ...     1\n",
       "8        basalt deducible oaken fafnir hamlin uncle  ...     1\n",
       "9       broadside outlay spores devoted vexing  kicke...     1\n",
       "10     Have a house?..Want a new house?This is awesom...     1\n",
       "11       The permanent fix to Pe nis Enla rgement   L...     1\n",
       "12       A permanent solution to Pe nis Gro wth   LIM...     1\n",
       "13     GreetingsI am Benedicta Lindiwe Hendricks (Mrs...     1\n",
       "14      Carolyn regretful watchfully Procrustes godly...     1\n",
       "15     HelloWe sent you an email a while ago because ...     1\n",
       "16     Hello!Are you interested in trying out this sp...     1\n",
       "17                     H $ ello    dea 54 r home owne...     1\n",
       "18     Manual de Mec�nica de Motos2 CD's repletos de ...     1\n",
       "19     There is a 95% chance that your pc is infected...     1\n",
       "20     FROM: THE LOTTERY COORDINATORINTERNATIONAL PRO...     1\n",
       "21     DALOBICA LOTTO BV.=09=09INTERNATIONAL PROMOTIO...     1\n",
       "22     Hello I have a special offer for you...WANT TO...     1\n",
       "23     LUCKYDAY LOTTERY INTERNATIONAL HOFGEEST 333110...     1\n",
       "24     Manual de Mec�nica de Motos2 CD's repletos de ...     1\n",
       "25     tarrin^iscsnoticiblyjschwartzhulmeville.am^.er...     1\n",
       "26     Hi I have a special offer available for you at...     1\n",
       "27     HiWe have a new offer for you. Buy cheap Viagr...     1\n",
       "28     Dear CheapSoft CustomerMy name is Andrea Decke...     1\n",
       "29     PACIFIC INTERNATIONAL LOTTERY ORGANISATION.FRO...     1\n",
       "...                                                  ...   ...\n",
       "19059  Deal number for desk-desk, 676663, on peak, SP...     0\n",
       "19060  EOL Deals  From: 7/1/2001   To: 7/5/2001   EnP...     0\n",
       "19061  EOL Deals  From: 7/1/2001   To: 7/3/2001   EnP...     0\n",
       "19062  I just wanted to forward on to you; \"TFS let w...     0\n",
       "19063  EOL Deals  From: 7/1/2001   To: 7/2/2001   EnP...     0\n",
       "19064  EOL Deals  From: 6/1/2001   To: 6/28/2001   En...     0\n",
       "19065                                             Des...     0\n",
       "19066  Please see short message below from Evelyn Met...     0\n",
       "19067  Mr. Williams III your deal number for the swap...     0\n",
       "19068  Sorry for the delay Mr. Williams III.  The dea...     0\n",
       "19069  EOL Deals  From: 6/1/2001   To: 6/26/2001   En...     0\n",
       "19070  EOL Deals  From: 6/1/2001   To: 6/25/2001   En...     0\n",
       "19071  Good Afternoon Ladies  I am taking a class tod...     0\n",
       "19072  Good Morning!  Due to a minor over-haul, your ...     0\n",
       "19073  EOL Deals  From: 6/1/2001   To: 6/19/2001   En...     0\n",
       "19074  Cal-Imbalance deal is 650452. Inter-desk swap ...     0\n",
       "19075   Due to CAISO roll out of the new WEB based OA...     0\n",
       "19076  Attached are the Total Transfer Capabilities (...     0\n",
       "19077  Attached are the Total Transfer Capabilities (...     0\n",
       "19078  fyi. ---------------------- Forwarded by Tim B...     0\n",
       "19079  Over the last couple of years we have had nume...     0\n",
       "19080  All of us are aware of the energy crisis confr...     0\n",
       "19081  The last couple of days on eol have been amazi...     0\n",
       "19082   ---------------------- Forwarded by Tim Belde...     0\n",
       "19083   ---------------------- Forwarded by Tim Belde...     0\n",
       "19084  for your reading pleasure.  tim --------------...     0\n",
       "19085    Congressional Republicans Draft Energy Bill ...     0\n",
       "19086  should we be doing this? ---------------------...     0\n",
       "19087  I will be taking Tuesday and Friday of this we...     0\n",
       "19088  I am trying to put together a reference sheet ...     0\n",
       "\n",
       "[51937 rows x 2 columns]"
      ]
     },
     "execution_count": 40,
     "metadata": {},
     "output_type": "execute_result"
    }
   ],
   "source": [
    "mail_df"
   ]
  },
  {
   "cell_type": "code",
   "execution_count": 50,
   "metadata": {
    "collapsed": true
   },
   "outputs": [],
   "source": [
    "mail_df = mail_df.reset_index(drop=True)"
   ]
  },
  {
   "cell_type": "code",
   "execution_count": 51,
   "metadata": {
    "collapsed": false
   },
   "outputs": [
    {
     "data": {
      "text/html": [
       "<div>\n",
       "<table border=\"1\" class=\"dataframe\">\n",
       "  <thead>\n",
       "    <tr style=\"text-align: right;\">\n",
       "      <th></th>\n",
       "      <th>text</th>\n",
       "      <th>Spam</th>\n",
       "    </tr>\n",
       "  </thead>\n",
       "  <tbody>\n",
       "    <tr>\n",
       "      <th>0</th>\n",
       "      <td>shakedown NEWSLETTER stop NEWS bushel ISSUE ...</td>\n",
       "      <td>1</td>\n",
       "    </tr>\n",
       "    <tr>\n",
       "      <th>1</th>\n",
       "      <td>Your [m]ortgage application was approved. You...</td>\n",
       "      <td>1</td>\n",
       "    </tr>\n",
       "    <tr>\n",
       "      <th>2</th>\n",
       "      <td>TOP quality software:  Special Offer #1:  Wind...</td>\n",
       "      <td>1</td>\n",
       "    </tr>\n",
       "    <tr>\n",
       "      <th>3</th>\n",
       "      <td>Promotional Newsletter                      ...</td>\n",
       "      <td>1</td>\n",
       "    </tr>\n",
       "    <tr>\n",
       "      <th>4</th>\n",
       "      <td>- Flyer   A:hover {color: #FF0000}         ...</td>\n",
       "      <td>1</td>\n",
       "    </tr>\n",
       "    <tr>\n",
       "      <th>5</th>\n",
       "      <td>Cheap softtwares for you all are Origina...</td>\n",
       "      <td>1</td>\n",
       "    </tr>\n",
       "    <tr>\n",
       "      <th>6</th>\n",
       "      <td>Dear Friend REQUEST FOR URGENT BUSINESS ASSIST...</td>\n",
       "      <td>1</td>\n",
       "    </tr>\n",
       "    <tr>\n",
       "      <th>7</th>\n",
       "      <td>I need you     ;        ;   ;   ;   ;   ;   ...</td>\n",
       "      <td>1</td>\n",
       "    </tr>\n",
       "    <tr>\n",
       "      <th>8</th>\n",
       "      <td>basalt deducible oaken fafnir hamlin uncle  ...</td>\n",
       "      <td>1</td>\n",
       "    </tr>\n",
       "    <tr>\n",
       "      <th>9</th>\n",
       "      <td>broadside outlay spores devoted vexing  kicke...</td>\n",
       "      <td>1</td>\n",
       "    </tr>\n",
       "    <tr>\n",
       "      <th>10</th>\n",
       "      <td>Have a house?..Want a new house?This is awesom...</td>\n",
       "      <td>1</td>\n",
       "    </tr>\n",
       "    <tr>\n",
       "      <th>11</th>\n",
       "      <td>The permanent fix to Pe nis Enla rgement   L...</td>\n",
       "      <td>1</td>\n",
       "    </tr>\n",
       "    <tr>\n",
       "      <th>12</th>\n",
       "      <td>A permanent solution to Pe nis Gro wth   LIM...</td>\n",
       "      <td>1</td>\n",
       "    </tr>\n",
       "    <tr>\n",
       "      <th>13</th>\n",
       "      <td>GreetingsI am Benedicta Lindiwe Hendricks (Mrs...</td>\n",
       "      <td>1</td>\n",
       "    </tr>\n",
       "    <tr>\n",
       "      <th>14</th>\n",
       "      <td>Carolyn regretful watchfully Procrustes godly...</td>\n",
       "      <td>1</td>\n",
       "    </tr>\n",
       "    <tr>\n",
       "      <th>15</th>\n",
       "      <td>HelloWe sent you an email a while ago because ...</td>\n",
       "      <td>1</td>\n",
       "    </tr>\n",
       "    <tr>\n",
       "      <th>16</th>\n",
       "      <td>Hello!Are you interested in trying out this sp...</td>\n",
       "      <td>1</td>\n",
       "    </tr>\n",
       "    <tr>\n",
       "      <th>17</th>\n",
       "      <td>H $ ello    dea 54 r home owne...</td>\n",
       "      <td>1</td>\n",
       "    </tr>\n",
       "    <tr>\n",
       "      <th>18</th>\n",
       "      <td>Manual de Mec�nica de Motos2 CD's repletos de ...</td>\n",
       "      <td>1</td>\n",
       "    </tr>\n",
       "    <tr>\n",
       "      <th>19</th>\n",
       "      <td>There is a 95% chance that your pc is infected...</td>\n",
       "      <td>1</td>\n",
       "    </tr>\n",
       "    <tr>\n",
       "      <th>20</th>\n",
       "      <td>FROM: THE LOTTERY COORDINATORINTERNATIONAL PRO...</td>\n",
       "      <td>1</td>\n",
       "    </tr>\n",
       "    <tr>\n",
       "      <th>21</th>\n",
       "      <td>DALOBICA LOTTO BV.=09=09INTERNATIONAL PROMOTIO...</td>\n",
       "      <td>1</td>\n",
       "    </tr>\n",
       "    <tr>\n",
       "      <th>22</th>\n",
       "      <td>Hello I have a special offer for you...WANT TO...</td>\n",
       "      <td>1</td>\n",
       "    </tr>\n",
       "    <tr>\n",
       "      <th>23</th>\n",
       "      <td>LUCKYDAY LOTTERY INTERNATIONAL HOFGEEST 333110...</td>\n",
       "      <td>1</td>\n",
       "    </tr>\n",
       "    <tr>\n",
       "      <th>24</th>\n",
       "      <td>Manual de Mec�nica de Motos2 CD's repletos de ...</td>\n",
       "      <td>1</td>\n",
       "    </tr>\n",
       "    <tr>\n",
       "      <th>25</th>\n",
       "      <td>tarrin^iscsnoticiblyjschwartzhulmeville.am^.er...</td>\n",
       "      <td>1</td>\n",
       "    </tr>\n",
       "    <tr>\n",
       "      <th>26</th>\n",
       "      <td>Hi I have a special offer available for you at...</td>\n",
       "      <td>1</td>\n",
       "    </tr>\n",
       "    <tr>\n",
       "      <th>27</th>\n",
       "      <td>HiWe have a new offer for you. Buy cheap Viagr...</td>\n",
       "      <td>1</td>\n",
       "    </tr>\n",
       "    <tr>\n",
       "      <th>28</th>\n",
       "      <td>Dear CheapSoft CustomerMy name is Andrea Decke...</td>\n",
       "      <td>1</td>\n",
       "    </tr>\n",
       "    <tr>\n",
       "      <th>29</th>\n",
       "      <td>PACIFIC INTERNATIONAL LOTTERY ORGANISATION.FRO...</td>\n",
       "      <td>1</td>\n",
       "    </tr>\n",
       "    <tr>\n",
       "      <th>...</th>\n",
       "      <td>...</td>\n",
       "      <td>...</td>\n",
       "    </tr>\n",
       "    <tr>\n",
       "      <th>51907</th>\n",
       "      <td>Deal number for desk-desk, 676663, on peak, SP...</td>\n",
       "      <td>0</td>\n",
       "    </tr>\n",
       "    <tr>\n",
       "      <th>51908</th>\n",
       "      <td>EOL Deals  From: 7/1/2001   To: 7/5/2001   EnP...</td>\n",
       "      <td>0</td>\n",
       "    </tr>\n",
       "    <tr>\n",
       "      <th>51909</th>\n",
       "      <td>EOL Deals  From: 7/1/2001   To: 7/3/2001   EnP...</td>\n",
       "      <td>0</td>\n",
       "    </tr>\n",
       "    <tr>\n",
       "      <th>51910</th>\n",
       "      <td>I just wanted to forward on to you; \"TFS let w...</td>\n",
       "      <td>0</td>\n",
       "    </tr>\n",
       "    <tr>\n",
       "      <th>51911</th>\n",
       "      <td>EOL Deals  From: 7/1/2001   To: 7/2/2001   EnP...</td>\n",
       "      <td>0</td>\n",
       "    </tr>\n",
       "    <tr>\n",
       "      <th>51912</th>\n",
       "      <td>EOL Deals  From: 6/1/2001   To: 6/28/2001   En...</td>\n",
       "      <td>0</td>\n",
       "    </tr>\n",
       "    <tr>\n",
       "      <th>51913</th>\n",
       "      <td>Des...</td>\n",
       "      <td>0</td>\n",
       "    </tr>\n",
       "    <tr>\n",
       "      <th>51914</th>\n",
       "      <td>Please see short message below from Evelyn Met...</td>\n",
       "      <td>0</td>\n",
       "    </tr>\n",
       "    <tr>\n",
       "      <th>51915</th>\n",
       "      <td>Mr. Williams III your deal number for the swap...</td>\n",
       "      <td>0</td>\n",
       "    </tr>\n",
       "    <tr>\n",
       "      <th>51916</th>\n",
       "      <td>Sorry for the delay Mr. Williams III.  The dea...</td>\n",
       "      <td>0</td>\n",
       "    </tr>\n",
       "    <tr>\n",
       "      <th>51917</th>\n",
       "      <td>EOL Deals  From: 6/1/2001   To: 6/26/2001   En...</td>\n",
       "      <td>0</td>\n",
       "    </tr>\n",
       "    <tr>\n",
       "      <th>51918</th>\n",
       "      <td>EOL Deals  From: 6/1/2001   To: 6/25/2001   En...</td>\n",
       "      <td>0</td>\n",
       "    </tr>\n",
       "    <tr>\n",
       "      <th>51919</th>\n",
       "      <td>Good Afternoon Ladies  I am taking a class tod...</td>\n",
       "      <td>0</td>\n",
       "    </tr>\n",
       "    <tr>\n",
       "      <th>51920</th>\n",
       "      <td>Good Morning!  Due to a minor over-haul, your ...</td>\n",
       "      <td>0</td>\n",
       "    </tr>\n",
       "    <tr>\n",
       "      <th>51921</th>\n",
       "      <td>EOL Deals  From: 6/1/2001   To: 6/19/2001   En...</td>\n",
       "      <td>0</td>\n",
       "    </tr>\n",
       "    <tr>\n",
       "      <th>51922</th>\n",
       "      <td>Cal-Imbalance deal is 650452. Inter-desk swap ...</td>\n",
       "      <td>0</td>\n",
       "    </tr>\n",
       "    <tr>\n",
       "      <th>51923</th>\n",
       "      <td>Due to CAISO roll out of the new WEB based OA...</td>\n",
       "      <td>0</td>\n",
       "    </tr>\n",
       "    <tr>\n",
       "      <th>51924</th>\n",
       "      <td>Attached are the Total Transfer Capabilities (...</td>\n",
       "      <td>0</td>\n",
       "    </tr>\n",
       "    <tr>\n",
       "      <th>51925</th>\n",
       "      <td>Attached are the Total Transfer Capabilities (...</td>\n",
       "      <td>0</td>\n",
       "    </tr>\n",
       "    <tr>\n",
       "      <th>51926</th>\n",
       "      <td>fyi. ---------------------- Forwarded by Tim B...</td>\n",
       "      <td>0</td>\n",
       "    </tr>\n",
       "    <tr>\n",
       "      <th>51927</th>\n",
       "      <td>Over the last couple of years we have had nume...</td>\n",
       "      <td>0</td>\n",
       "    </tr>\n",
       "    <tr>\n",
       "      <th>51928</th>\n",
       "      <td>All of us are aware of the energy crisis confr...</td>\n",
       "      <td>0</td>\n",
       "    </tr>\n",
       "    <tr>\n",
       "      <th>51929</th>\n",
       "      <td>The last couple of days on eol have been amazi...</td>\n",
       "      <td>0</td>\n",
       "    </tr>\n",
       "    <tr>\n",
       "      <th>51930</th>\n",
       "      <td>---------------------- Forwarded by Tim Belde...</td>\n",
       "      <td>0</td>\n",
       "    </tr>\n",
       "    <tr>\n",
       "      <th>51931</th>\n",
       "      <td>---------------------- Forwarded by Tim Belde...</td>\n",
       "      <td>0</td>\n",
       "    </tr>\n",
       "    <tr>\n",
       "      <th>51932</th>\n",
       "      <td>for your reading pleasure.  tim --------------...</td>\n",
       "      <td>0</td>\n",
       "    </tr>\n",
       "    <tr>\n",
       "      <th>51933</th>\n",
       "      <td>Congressional Republicans Draft Energy Bill ...</td>\n",
       "      <td>0</td>\n",
       "    </tr>\n",
       "    <tr>\n",
       "      <th>51934</th>\n",
       "      <td>should we be doing this? ---------------------...</td>\n",
       "      <td>0</td>\n",
       "    </tr>\n",
       "    <tr>\n",
       "      <th>51935</th>\n",
       "      <td>I will be taking Tuesday and Friday of this we...</td>\n",
       "      <td>0</td>\n",
       "    </tr>\n",
       "    <tr>\n",
       "      <th>51936</th>\n",
       "      <td>I am trying to put together a reference sheet ...</td>\n",
       "      <td>0</td>\n",
       "    </tr>\n",
       "  </tbody>\n",
       "</table>\n",
       "<p>51937 rows × 2 columns</p>\n",
       "</div>"
      ],
      "text/plain": [
       "                                                    text  Spam\n",
       "0        shakedown NEWSLETTER stop NEWS bushel ISSUE ...     1\n",
       "1       Your [m]ortgage application was approved. You...     1\n",
       "2      TOP quality software:  Special Offer #1:  Wind...     1\n",
       "3        Promotional Newsletter                      ...     1\n",
       "4         - Flyer   A:hover {color: #FF0000}         ...     1\n",
       "5            Cheap softtwares for you all are Origina...     1\n",
       "6      Dear Friend REQUEST FOR URGENT BUSINESS ASSIST...     1\n",
       "7        I need you     ;        ;   ;   ;   ;   ;   ...     1\n",
       "8        basalt deducible oaken fafnir hamlin uncle  ...     1\n",
       "9       broadside outlay spores devoted vexing  kicke...     1\n",
       "10     Have a house?..Want a new house?This is awesom...     1\n",
       "11       The permanent fix to Pe nis Enla rgement   L...     1\n",
       "12       A permanent solution to Pe nis Gro wth   LIM...     1\n",
       "13     GreetingsI am Benedicta Lindiwe Hendricks (Mrs...     1\n",
       "14      Carolyn regretful watchfully Procrustes godly...     1\n",
       "15     HelloWe sent you an email a while ago because ...     1\n",
       "16     Hello!Are you interested in trying out this sp...     1\n",
       "17                     H $ ello    dea 54 r home owne...     1\n",
       "18     Manual de Mec�nica de Motos2 CD's repletos de ...     1\n",
       "19     There is a 95% chance that your pc is infected...     1\n",
       "20     FROM: THE LOTTERY COORDINATORINTERNATIONAL PRO...     1\n",
       "21     DALOBICA LOTTO BV.=09=09INTERNATIONAL PROMOTIO...     1\n",
       "22     Hello I have a special offer for you...WANT TO...     1\n",
       "23     LUCKYDAY LOTTERY INTERNATIONAL HOFGEEST 333110...     1\n",
       "24     Manual de Mec�nica de Motos2 CD's repletos de ...     1\n",
       "25     tarrin^iscsnoticiblyjschwartzhulmeville.am^.er...     1\n",
       "26     Hi I have a special offer available for you at...     1\n",
       "27     HiWe have a new offer for you. Buy cheap Viagr...     1\n",
       "28     Dear CheapSoft CustomerMy name is Andrea Decke...     1\n",
       "29     PACIFIC INTERNATIONAL LOTTERY ORGANISATION.FRO...     1\n",
       "...                                                  ...   ...\n",
       "51907  Deal number for desk-desk, 676663, on peak, SP...     0\n",
       "51908  EOL Deals  From: 7/1/2001   To: 7/5/2001   EnP...     0\n",
       "51909  EOL Deals  From: 7/1/2001   To: 7/3/2001   EnP...     0\n",
       "51910  I just wanted to forward on to you; \"TFS let w...     0\n",
       "51911  EOL Deals  From: 7/1/2001   To: 7/2/2001   EnP...     0\n",
       "51912  EOL Deals  From: 6/1/2001   To: 6/28/2001   En...     0\n",
       "51913                                             Des...     0\n",
       "51914  Please see short message below from Evelyn Met...     0\n",
       "51915  Mr. Williams III your deal number for the swap...     0\n",
       "51916  Sorry for the delay Mr. Williams III.  The dea...     0\n",
       "51917  EOL Deals  From: 6/1/2001   To: 6/26/2001   En...     0\n",
       "51918  EOL Deals  From: 6/1/2001   To: 6/25/2001   En...     0\n",
       "51919  Good Afternoon Ladies  I am taking a class tod...     0\n",
       "51920  Good Morning!  Due to a minor over-haul, your ...     0\n",
       "51921  EOL Deals  From: 6/1/2001   To: 6/19/2001   En...     0\n",
       "51922  Cal-Imbalance deal is 650452. Inter-desk swap ...     0\n",
       "51923   Due to CAISO roll out of the new WEB based OA...     0\n",
       "51924  Attached are the Total Transfer Capabilities (...     0\n",
       "51925  Attached are the Total Transfer Capabilities (...     0\n",
       "51926  fyi. ---------------------- Forwarded by Tim B...     0\n",
       "51927  Over the last couple of years we have had nume...     0\n",
       "51928  All of us are aware of the energy crisis confr...     0\n",
       "51929  The last couple of days on eol have been amazi...     0\n",
       "51930   ---------------------- Forwarded by Tim Belde...     0\n",
       "51931   ---------------------- Forwarded by Tim Belde...     0\n",
       "51932  for your reading pleasure.  tim --------------...     0\n",
       "51933    Congressional Republicans Draft Energy Bill ...     0\n",
       "51934  should we be doing this? ---------------------...     0\n",
       "51935  I will be taking Tuesday and Friday of this we...     0\n",
       "51936  I am trying to put together a reference sheet ...     0\n",
       "\n",
       "[51937 rows x 2 columns]"
      ]
     },
     "execution_count": 51,
     "metadata": {},
     "output_type": "execute_result"
    }
   ],
   "source": [
    "mail_df"
   ]
  },
  {
   "cell_type": "markdown",
   "metadata": {},
   "source": [
    "# Divide data into training (60%), cross-validation (20%), and test set (20%) "
   ]
  },
  {
   "cell_type": "code",
   "execution_count": 41,
   "metadata": {
    "collapsed": true
   },
   "outputs": [],
   "source": [
    "# Dataframe opdelen in een trainset, crossvalidation set, en test set. \n",
    "# De eerste is om de modellen te trainen, \n",
    "# de tweede is om de getrainde modellen te vergelijken en het beste model te selecteren. \n",
    "# De test set is om te kijken hoe het uiteindelijk gekozen model het doet op nieuwe data."
   ]
  },
  {
   "cell_type": "code",
   "execution_count": 52,
   "metadata": {
    "collapsed": false
   },
   "outputs": [],
   "source": [
    "train, validate, test = np.split(mail_df.sample(frac=1), [int(.6*len(mail_df)), int(.8*len(mail_df))])"
   ]
  },
  {
   "cell_type": "code",
   "execution_count": 53,
   "metadata": {
    "collapsed": true
   },
   "outputs": [],
   "source": [
    "# rowmames aanpassen; 0, 1, 2, etc."
   ]
  },
  {
   "cell_type": "code",
   "execution_count": 54,
   "metadata": {
    "collapsed": true
   },
   "outputs": [],
   "source": [
    "num_train_mails = len(train[\"text\"])\n",
    "train.index = range(num_train_mails)"
   ]
  },
  {
   "cell_type": "code",
   "execution_count": 55,
   "metadata": {
    "collapsed": false
   },
   "outputs": [
    {
     "data": {
      "text/html": [
       "<div>\n",
       "<table border=\"1\" class=\"dataframe\">\n",
       "  <thead>\n",
       "    <tr style=\"text-align: right;\">\n",
       "      <th></th>\n",
       "      <th>text</th>\n",
       "      <th>Spam</th>\n",
       "    </tr>\n",
       "  </thead>\n",
       "  <tbody>\n",
       "    <tr>\n",
       "      <th>0</th>\n",
       "      <td>Hi Vince, ? I'm sorry you weren't around in Sy...</td>\n",
       "      <td>0</td>\n",
       "    </tr>\n",
       "    <tr>\n",
       "      <th>1</th>\n",
       "      <td>Denis Terrell                                ...</td>\n",
       "      <td>1</td>\n",
       "    </tr>\n",
       "    <tr>\n",
       "      <th>2</th>\n",
       "      <td>It is amazing and yet not surprising how much ...</td>\n",
       "      <td>0</td>\n",
       "    </tr>\n",
       "    <tr>\n",
       "      <th>3</th>\n",
       "      <td>I know what you're going through inside is ...</td>\n",
       "      <td>1</td>\n",
       "    </tr>\n",
       "    <tr>\n",
       "      <th>4</th>\n",
       "      <td>CIBRES.COM      ;   Remove    ;148827   Subsc...</td>\n",
       "      <td>1</td>\n",
       "    </tr>\n",
       "    <tr>\n",
       "      <th>5</th>\n",
       "      <td>All Your Meds Here                We are you...</td>\n",
       "      <td>1</td>\n",
       "    </tr>\n",
       "    <tr>\n",
       "      <th>6</th>\n",
       "      <td>This is a multi-part message in MIME for...</td>\n",
       "      <td>1</td>\n",
       "    </tr>\n",
       "    <tr>\n",
       "      <th>7</th>\n",
       "      <td>Corporate image can say a lot of things =...</td>\n",
       "      <td>1</td>\n",
       "    </tr>\n",
       "    <tr>\n",
       "      <th>8</th>\n",
       "      <td>fireproof         stroboscopic cattleman...</td>\n",
       "      <td>1</td>\n",
       "    </tr>\n",
       "    <tr>\n",
       "      <th>9</th>\n",
       "      <td>Heyz    Hey it's me Megan... my husband is ...</td>\n",
       "      <td>1</td>\n",
       "    </tr>\n",
       "    <tr>\n",
       "      <th>10</th>\n",
       "      <td>Julie:  Attached is a document which attempts ...</td>\n",
       "      <td>0</td>\n",
       "    </tr>\n",
       "    <tr>\n",
       "      <th>11</th>\n",
       "      <td>Hello all:  The LNG meeting that was to be hel...</td>\n",
       "      <td>0</td>\n",
       "    </tr>\n",
       "    <tr>\n",
       "      <th>12</th>\n",
       "      <td>Call out Gouranga be happy!!!Gouranga Gouranga...</td>\n",
       "      <td>1</td>\n",
       "    </tr>\n",
       "    <tr>\n",
       "      <th>13</th>\n",
       "      <td>We are reliable and convenient rx drugstore...</td>\n",
       "      <td>1</td>\n",
       "    </tr>\n",
       "    <tr>\n",
       "      <th>14</th>\n",
       "      <td>***�Դ�ѭ�� on-line �Ѻ���-- US$25�Ѵ��� �س����ö�Ӹ...</td>\n",
       "      <td>1</td>\n",
       "    </tr>\n",
       "    <tr>\n",
       "      <th>15</th>\n",
       "      <td>PHENTERMINE    ; ; ; ; ; ; ; ; ; =; ; ; ; ;...</td>\n",
       "      <td>1</td>\n",
       "    </tr>\n",
       "    <tr>\n",
       "      <th>16</th>\n",
       "      <td>Dear Candidate: On ...</td>\n",
       "      <td>1</td>\n",
       "    </tr>\n",
       "    <tr>\n",
       "      <th>17</th>\n",
       "      <td>Long time JoshHere's the answer to grow ur uni...</td>\n",
       "      <td>1</td>\n",
       "    </tr>\n",
       "    <tr>\n",
       "      <th>18</th>\n",
       "      <td>BOUNCE skel@iit.demokritos.gr:  Non-member ...</td>\n",
       "      <td>1</td>\n",
       "    </tr>\n",
       "    <tr>\n",
       "      <th>19</th>\n",
       "      <td>We are pleased to announce the following organ...</td>\n",
       "      <td>0</td>\n",
       "    </tr>\n",
       "    <tr>\n",
       "      <th>20</th>\n",
       "      <td>assist your brother with his sufferingH-Y.D-R'...</td>\n",
       "      <td>1</td>\n",
       "    </tr>\n",
       "    <tr>\n",
       "      <th>21</th>\n",
       "      <td>Access all the popular    software y...</td>\n",
       "      <td>1</td>\n",
       "    </tr>\n",
       "    <tr>\n",
       "      <th>22</th>\n",
       "      <td>;        Hel         ;MedsByMail Sh     ...</td>\n",
       "      <td>1</td>\n",
       "    </tr>\n",
       "    <tr>\n",
       "      <th>23</th>\n",
       "      <td></td>\n",
       "      <td>1</td>\n",
       "    </tr>\n",
       "    <tr>\n",
       "      <th>24</th>\n",
       "      <td>Penny Sharess Are Ab0ut Timing   MNEI - The...</td>\n",
       "      <td>1</td>\n",
       "    </tr>\n",
       "    <tr>\n",
       "      <th>25</th>\n",
       "      <td>GoToMeeting               GoToMeeting: The ...</td>\n",
       "      <td>1</td>\n",
       "    </tr>\n",
       "    <tr>\n",
       "      <th>26</th>\n",
       "      <td>Mis grupos | centrofotografico P�gina p...</td>\n",
       "      <td>1</td>\n",
       "    </tr>\n",
       "    <tr>\n",
       "      <th>27</th>\n",
       "      <td>Hacked W1ndOws SOftware |s Bad   M!cros0ftAdo...</td>\n",
       "      <td>1</td>\n",
       "    </tr>\n",
       "    <tr>\n",
       "      <th>28</th>\n",
       "      <td>Get all the popular    software you ...</td>\n",
       "      <td>1</td>\n",
       "    </tr>\n",
       "    <tr>\n",
       "      <th>29</th>\n",
       "      <td>Start Date: 12/16/01; HourAhead hour: 16;  N...</td>\n",
       "      <td>0</td>\n",
       "    </tr>\n",
       "    <tr>\n",
       "      <th>...</th>\n",
       "      <td>...</td>\n",
       "      <td>...</td>\n",
       "    </tr>\n",
       "    <tr>\n",
       "      <th>31132</th>\n",
       "      <td>=B8=ED=C7=B0 =C1=F6=B0=A9 =BA=A7=C6=AE      ...</td>\n",
       "      <td>1</td>\n",
       "    </tr>\n",
       "    <tr>\n",
       "      <th>31133</th>\n",
       "      <td>H e l l o ; ;d e a r ; ;h o ...</td>\n",
       "      <td>1</td>\n",
       "    </tr>\n",
       "    <tr>\n",
       "      <th>31134</th>\n",
       "      <td>I am pleased to announce that effective Januar...</td>\n",
       "      <td>0</td>\n",
       "    </tr>\n",
       "    <tr>\n",
       "      <th>31135</th>\n",
       "      <td>RE: Information is key to stock success   ...</td>\n",
       "      <td>1</td>\n",
       "    </tr>\n",
       "    <tr>\n",
       "      <th>31136</th>\n",
       "      <td>lt is really hard to recollect a =company...</td>\n",
       "      <td>1</td>\n",
       "    </tr>\n",
       "    <tr>\n",
       "      <th>31137</th>\n",
       "      <td>Thought you guys might find this chart pretty ...</td>\n",
       "      <td>0</td>\n",
       "    </tr>\n",
       "    <tr>\n",
       "      <th>31138</th>\n",
       "      <td>Sally,  This is the current status of the outs...</td>\n",
       "      <td>0</td>\n",
       "    </tr>\n",
       "    <tr>\n",
       "      <th>31139</th>\n",
       "      <td>antisubmarine talent apparition Otto ...</td>\n",
       "      <td>1</td>\n",
       "    </tr>\n",
       "    <tr>\n",
       "      <th>31140</th>\n",
       "      <td>Amazing Sxsxth I hope you can use this.   h...</td>\n",
       "      <td>1</td>\n",
       "    </tr>\n",
       "    <tr>\n",
       "      <th>31141</th>\n",
       "      <td>Start Date: 1/8/02; HourAhead hour: 7;  No a...</td>\n",
       "      <td>0</td>\n",
       "    </tr>\n",
       "    <tr>\n",
       "      <th>31142</th>\n",
       "      <td>A Genuine College Degree in 2 weeks! Have...</td>\n",
       "      <td>1</td>\n",
       "    </tr>\n",
       "    <tr>\n",
       "      <th>31143</th>\n",
       "      <td>Fw: Let your child grow with the best softw...</td>\n",
       "      <td>1</td>\n",
       "    </tr>\n",
       "    <tr>\n",
       "      <th>31144</th>\n",
       "      <td>There is NO stumbling on to it! The greatest w...</td>\n",
       "      <td>1</td>\n",
       "    </tr>\n",
       "    <tr>\n",
       "      <th>31145</th>\n",
       "      <td>;  Wan clotted t =to know how to save ov...</td>\n",
       "      <td>1</td>\n",
       "    </tr>\n",
       "    <tr>\n",
       "      <th>31146</th>\n",
       "      <td>Buy cheap Viagra through us.   Hi We have a...</td>\n",
       "      <td>1</td>\n",
       "    </tr>\n",
       "    <tr>\n",
       "      <th>31147</th>\n",
       "      <td>Pha. rma             Sa ; ve 6 _ 0% ord . er...</td>\n",
       "      <td>1</td>\n",
       "    </tr>\n",
       "    <tr>\n",
       "      <th>31148</th>\n",
       "      <td>Want to impress her? Buy her Louis Vuitton!...</td>\n",
       "      <td>1</td>\n",
       "    </tr>\n",
       "    <tr>\n",
       "      <th>31149</th>\n",
       "      <td>Daren, Sanchez Oil &amp; Gas has 3 wells(their Hig...</td>\n",
       "      <td>0</td>\n",
       "    </tr>\n",
       "    <tr>\n",
       "      <th>31150</th>\n",
       "      <td>Risk Ops. had problems loading the ERAC crude ...</td>\n",
       "      <td>0</td>\n",
       "    </tr>\n",
       "    <tr>\n",
       "      <th>31151</th>\n",
       "      <td>detain         exclusionary absentee bra...</td>\n",
       "      <td>1</td>\n",
       "    </tr>\n",
       "    <tr>\n",
       "      <th>31152</th>\n",
       "      <td>Well- I have officially NOT heard from Hilcorp...</td>\n",
       "      <td>0</td>\n",
       "    </tr>\n",
       "    <tr>\n",
       "      <th>31153</th>\n",
       "      <td>Your in-home source of health informationhttp:...</td>\n",
       "      <td>1</td>\n",
       "    </tr>\n",
       "    <tr>\n",
       "      <th>31154</th>\n",
       "      <td>FROM DESK OF DR=2EABUDU FAYE=2EMINISTRY OF ENE...</td>\n",
       "      <td>1</td>\n",
       "    </tr>\n",
       "    <tr>\n",
       "      <th>31155</th>\n",
       "      <td>Actually, I just found out that he is not goin...</td>\n",
       "      <td>0</td>\n",
       "    </tr>\n",
       "    <tr>\n",
       "      <th>31156</th>\n",
       "      <td>Start Date: 12/20/01; HourAhead hour: 18;  H...</td>\n",
       "      <td>0</td>\n",
       "    </tr>\n",
       "    <tr>\n",
       "      <th>31157</th>\n",
       "      <td>Vince,  We are delighted that you, Christie (a...</td>\n",
       "      <td>0</td>\n",
       "    </tr>\n",
       "    <tr>\n",
       "      <th>31158</th>\n",
       "      <td>The only solution to Pe nis Gro wth   LIMITE...</td>\n",
       "      <td>1</td>\n",
       "    </tr>\n",
       "    <tr>\n",
       "      <th>31159</th>\n",
       "      <td>Attached is a report on all of the people who ...</td>\n",
       "      <td>0</td>\n",
       "    </tr>\n",
       "    <tr>\n",
       "      <th>31160</th>\n",
       "      <td>Click here to be taken =off</td>\n",
       "      <td>1</td>\n",
       "    </tr>\n",
       "    <tr>\n",
       "      <th>31161</th>\n",
       "      <td>Start Date: 1/11/02; HourAhead hour: 19;  No...</td>\n",
       "      <td>0</td>\n",
       "    </tr>\n",
       "  </tbody>\n",
       "</table>\n",
       "<p>31162 rows × 2 columns</p>\n",
       "</div>"
      ],
      "text/plain": [
       "                                                    text  Spam\n",
       "0      Hi Vince, ? I'm sorry you weren't around in Sy...     0\n",
       "1       Denis Terrell                                ...     1\n",
       "2      It is amazing and yet not surprising how much ...     0\n",
       "3         I know what you're going through inside is ...     1\n",
       "4       CIBRES.COM      ;   Remove    ;148827   Subsc...     1\n",
       "5        All Your Meds Here                We are you...     1\n",
       "6            This is a multi-part message in MIME for...     1\n",
       "7           Corporate image can say a lot of things =...     1\n",
       "8            fireproof         stroboscopic cattleman...     1\n",
       "9         Heyz    Hey it's me Megan... my husband is ...     1\n",
       "10     Julie:  Attached is a document which attempts ...     0\n",
       "11     Hello all:  The LNG meeting that was to be hel...     0\n",
       "12     Call out Gouranga be happy!!!Gouranga Gouranga...     1\n",
       "13        We are reliable and convenient rx drugstore...     1\n",
       "14     ***�Դ�ѭ�� on-line �Ѻ���-- US$25�Ѵ��� �س����ö�Ӹ...     1\n",
       "15        PHENTERMINE    ; ; ; ; ; ; ; ; ; =; ; ; ; ;...     1\n",
       "16                                Dear Candidate: On ...     1\n",
       "17     Long time JoshHere's the answer to grow ur uni...     1\n",
       "18        BOUNCE skel@iit.demokritos.gr:  Non-member ...     1\n",
       "19     We are pleased to announce the following organ...     0\n",
       "20     assist your brother with his sufferingH-Y.D-R'...     1\n",
       "21               Access all the popular    software y...     1\n",
       "22           ;        Hel         ;MedsByMail Sh     ...     1\n",
       "23                                                           1\n",
       "24        Penny Sharess Are Ab0ut Timing   MNEI - The...     1\n",
       "25        GoToMeeting               GoToMeeting: The ...     1\n",
       "26            Mis grupos | centrofotografico P�gina p...     1\n",
       "27      Hacked W1ndOws SOftware |s Bad   M!cros0ftAdo...     1\n",
       "28               Get all the popular    software you ...     1\n",
       "29       Start Date: 12/16/01; HourAhead hour: 16;  N...     0\n",
       "...                                                  ...   ...\n",
       "31132    =B8=ED=C7=B0 =C1=F6=B0=A9 =BA=A7=C6=AE      ...     1\n",
       "31133                    H e l l o ; ;d e a r ; ;h o ...     1\n",
       "31134  I am pleased to announce that effective Januar...     0\n",
       "31135      RE: Information is key to stock success   ...     1\n",
       "31136       lt is really hard to recollect a =company...     1\n",
       "31137  Thought you guys might find this chart pretty ...     0\n",
       "31138  Sally,  This is the current status of the outs...     0\n",
       "31139           antisubmarine talent apparition Otto ...     1\n",
       "31140     Amazing Sxsxth I hope you can use this.   h...     1\n",
       "31141    Start Date: 1/8/02; HourAhead hour: 7;  No a...     0\n",
       "31142       A Genuine College Degree in 2 weeks! Have...     1\n",
       "31143     Fw: Let your child grow with the best softw...     1\n",
       "31144  There is NO stumbling on to it! The greatest w...     1\n",
       "31145        ;  Wan clotted t =to know how to save ov...     1\n",
       "31146     Buy cheap Viagra through us.   Hi We have a...     1\n",
       "31147    Pha. rma             Sa ; ve 6 _ 0% ord . er...     1\n",
       "31148     Want to impress her? Buy her Louis Vuitton!...     1\n",
       "31149  Daren, Sanchez Oil & Gas has 3 wells(their Hig...     0\n",
       "31150  Risk Ops. had problems loading the ERAC crude ...     0\n",
       "31151        detain         exclusionary absentee bra...     1\n",
       "31152  Well- I have officially NOT heard from Hilcorp...     0\n",
       "31153  Your in-home source of health informationhttp:...     1\n",
       "31154  FROM DESK OF DR=2EABUDU FAYE=2EMINISTRY OF ENE...     1\n",
       "31155  Actually, I just found out that he is not goin...     0\n",
       "31156    Start Date: 12/20/01; HourAhead hour: 18;  H...     0\n",
       "31157  Vince,  We are delighted that you, Christie (a...     0\n",
       "31158    The only solution to Pe nis Gro wth   LIMITE...     1\n",
       "31159  Attached is a report on all of the people who ...     0\n",
       "31160                     Click here to be taken =off        1\n",
       "31161    Start Date: 1/11/02; HourAhead hour: 19;  No...     0\n",
       "\n",
       "[31162 rows x 2 columns]"
      ]
     },
     "execution_count": 55,
     "metadata": {},
     "output_type": "execute_result"
    }
   ],
   "source": [
    "train"
   ]
  },
  {
   "cell_type": "markdown",
   "metadata": {},
   "source": [
    "# Extract features"
   ]
  },
  {
   "cell_type": "code",
   "execution_count": 46,
   "metadata": {
    "collapsed": true
   },
   "outputs": [],
   "source": [
    "# Veelgebruikte woorden verwijderen uit de trainingsdata\n",
    "from nltk.corpus import stopwords"
   ]
  },
  {
   "cell_type": "code",
   "execution_count": 56,
   "metadata": {
    "collapsed": false
   },
   "outputs": [],
   "source": [
    "clean_train_mails = []"
   ]
  },
  {
   "cell_type": "code",
   "execution_count": 57,
   "metadata": {
    "collapsed": false
   },
   "outputs": [],
   "source": [
    "for i in xrange( 0, num_train_mails ): \n",
    "    clean_train_mails.append( mail_to_words( train[\"text\"][i] ))"
   ]
  },
  {
   "cell_type": "code",
   "execution_count": 58,
   "metadata": {
    "collapsed": false
   },
   "outputs": [
    {
     "data": {
      "text/plain": [
       "'hi vince sorry around sydney week missed good book launch party john martin organised us paul made short speech relayed great comments said came thanks much please find attached next eprm article really tided fully end yet wanted send weekend case got chance look easter break robin thursday next week best regards chris eprm fwd curve simulation doc'"
      ]
     },
     "execution_count": 58,
     "metadata": {},
     "output_type": "execute_result"
    }
   ],
   "source": [
    "clean_train_mails[0]"
   ]
  },
  {
   "cell_type": "markdown",
   "metadata": {},
   "source": [
    "## Bag of words "
   ]
  },
  {
   "cell_type": "code",
   "execution_count": null,
   "metadata": {
    "collapsed": true
   },
   "outputs": [],
   "source": [
    "# 5000 meest gebruikte woorden (die informatief zijn) gebruiken als features.\n",
    "# In een matrix zetten met 0/1 om aan te geven of het woord voorkomt in een bepaalde mail\n",
    "from sklearn.feature_extraction.text import CountVectorizer"
   ]
  },
  {
   "cell_type": "code",
   "execution_count": 60,
   "metadata": {
    "collapsed": false
   },
   "outputs": [],
   "source": [
    "# \"CountVectorizer\": scikit-learn's bag of words tool.  \n",
    "vectorizer = CountVectorizer(analyzer = \"word\",   \\\n",
    "                             tokenizer = None,    \\\n",
    "                             preprocessor = None, \\\n",
    "                             stop_words = None,   \\\n",
    "                             max_features = 5000) \n",
    "\n",
    "# fit_transform() does two functions: First, it fits the model\n",
    "# and learns the vocabulary; second, it transforms our training data\n",
    "# into feature vectors. The input to fit_transform should be a list of \n",
    "# strings.\n",
    "train_data_features = vectorizer.fit_transform(clean_train_mails)\n",
    "\n",
    "# Numpy arrays are easy to work with, so convert the result to an \n",
    "# array\n",
    "train_data_features = train_data_features.toarray()"
   ]
  },
  {
   "cell_type": "code",
   "execution_count": null,
   "metadata": {
    "collapsed": true
   },
   "outputs": [],
   "source": [
    "# Aantal mails, aantal woorden (5000)"
   ]
  },
  {
   "cell_type": "code",
   "execution_count": 67,
   "metadata": {
    "collapsed": false
   },
   "outputs": [
    {
     "name": "stdout",
     "output_type": "stream",
     "text": [
      "(31162L, 5000L)\n"
     ]
    }
   ],
   "source": [
    "print train_data_features.shape"
   ]
  },
  {
   "cell_type": "code",
   "execution_count": null,
   "metadata": {
    "collapsed": true
   },
   "outputs": [],
   "source": [
    "# De geselecteerde woorden bekijken"
   ]
  },
  {
   "cell_type": "code",
   "execution_count": 68,
   "metadata": {
    "collapsed": false
   },
   "outputs": [
    {
     "name": "stdout",
     "output_type": "stream",
     "text": [
      "[u'aa', u'aacute', u'ab', u'abi', u'ability', u'able', u'abroad', u'absence', u'absolute', u'absolutely', u'abuse', u'ac', u'accept', u'acceptable', u'acceptance', u'accepted', u'accepting', u'accepts', u'access', u'accessories', u'accident', u'accomplish', u'accordance', u'according', u'accordingly', u'account', u'accounting', u'accounts', u'accuracy', u'accurate', u'ace', u'aced', u'achieve', u'achieved', u'acni', u'acquire', u'acquired', u'acquiring', u'acquisition', u'acquisitions', u'acres', u'acrobat', u'across', u'act', u'action', u'actions', u'active', u'activities', u'activity', u'acts']\n"
     ]
    }
   ],
   "source": [
    "vocab = vectorizer.get_feature_names()\n",
    "print vocab[0:50]"
   ]
  },
  {
   "cell_type": "code",
   "execution_count": 73,
   "metadata": {
    "collapsed": true
   },
   "outputs": [],
   "source": [
    "# Woord count is niet helemaal eerlijk, want langere mails meer woorden, dus daar rekening mee houden"
   ]
  },
  {
   "cell_type": "markdown",
   "metadata": {},
   "source": [
    "# Train model"
   ]
  },
  {
   "cell_type": "code",
   "execution_count": null,
   "metadata": {
    "collapsed": true
   },
   "outputs": [],
   "source": [
    "# Random forest schatten (100 trees)\n",
    "from sklearn.ensemble import RandomForestClassifier"
   ]
  },
  {
   "cell_type": "code",
   "execution_count": 154,
   "metadata": {
    "collapsed": false
   },
   "outputs": [],
   "source": [
    "forest = RandomForestClassifier(n_estimators = 100) \n",
    "forest = forest.fit( train_data_features, train[\"Spam\"] )\n"
   ]
  },
  {
   "cell_type": "code",
   "execution_count": null,
   "metadata": {
    "collapsed": true
   },
   "outputs": [],
   "source": [
    "# Naieve Bayes schatten\n",
    "from sklearn.naive_bayes import MultinomialNB"
   ]
  },
  {
   "cell_type": "code",
   "execution_count": 76,
   "metadata": {
    "collapsed": true
   },
   "outputs": [],
   "source": [
    "clf = MultinomialNB().fit(train_data_features, train[\"Spam\"])"
   ]
  },
  {
   "cell_type": "markdown",
   "metadata": {},
   "source": [
    "# Cross-validate model"
   ]
  },
  {
   "cell_type": "code",
   "execution_count": null,
   "metadata": {
    "collapsed": true
   },
   "outputs": [],
   "source": [
    "# Kijken hoe goed de modellen het doen"
   ]
  },
  {
   "cell_type": "code",
   "execution_count": null,
   "metadata": {
    "collapsed": true
   },
   "outputs": [],
   "source": [
    "# Eerst data bewerken zodat het in het model gebruikt kan worden (zelfde bewerkingen als traindata)"
   ]
  },
  {
   "cell_type": "code",
   "execution_count": 79,
   "metadata": {
    "collapsed": true
   },
   "outputs": [],
   "source": [
    "clean_validate_mails = []\n",
    "num_validate_mails = len(validate[\"text\"])\n",
    "validate.index = range(num_validate_mails)\n",
    "\n",
    "for i in xrange( 0, num_validate_mails ): \n",
    "    clean_validate_mails.append( mail_to_words( validate[\"text\"][i] ))"
   ]
  },
  {
   "cell_type": "code",
   "execution_count": null,
   "metadata": {
    "collapsed": true
   },
   "outputs": [],
   "source": [
    "# Bag of words maken (maar niet fitten!)"
   ]
  },
  {
   "cell_type": "code",
   "execution_count": 80,
   "metadata": {
    "collapsed": true
   },
   "outputs": [],
   "source": [
    "validate_data_features = vectorizer.transform(clean_validate_mails)\n",
    "validate_data_features = validate_data_features.toarray()"
   ]
  },
  {
   "cell_type": "code",
   "execution_count": 82,
   "metadata": {
    "collapsed": false
   },
   "outputs": [
    {
     "name": "stdout",
     "output_type": "stream",
     "text": [
      "(10387L, 5000L)\n"
     ]
    }
   ],
   "source": [
    "print validate_data_features.shape"
   ]
  },
  {
   "cell_type": "markdown",
   "metadata": {},
   "source": [
    "## Random forest"
   ]
  },
  {
   "cell_type": "code",
   "execution_count": null,
   "metadata": {
    "collapsed": true
   },
   "outputs": [],
   "source": [
    "## 100 trees"
   ]
  },
  {
   "cell_type": "code",
   "execution_count": 155,
   "metadata": {
    "collapsed": false
   },
   "outputs": [],
   "source": [
    "result_forest = forest.predict(validate_data_features)"
   ]
  },
  {
   "cell_type": "code",
   "execution_count": 156,
   "metadata": {
    "collapsed": true
   },
   "outputs": [],
   "source": [
    "# Classification error, Type I error, Type II error"
   ]
  },
  {
   "cell_type": "code",
   "execution_count": 157,
   "metadata": {
    "collapsed": false
   },
   "outputs": [
    {
     "data": {
      "text/plain": [
       "98.594396842206606"
      ]
     },
     "execution_count": 157,
     "metadata": {},
     "output_type": "execute_result"
    }
   ],
   "source": [
    "np.mean(result_forest==validate[\"Spam\"])*100"
   ]
  },
  {
   "cell_type": "code",
   "execution_count": 158,
   "metadata": {
    "collapsed": false
   },
   "outputs": [
    {
     "data": {
      "text/plain": [
       "1.4056031577933936"
      ]
     },
     "execution_count": 158,
     "metadata": {},
     "output_type": "execute_result"
    }
   ],
   "source": [
    "100 - np.mean(result_forest==validate[\"Spam\"])*100"
   ]
  },
  {
   "cell_type": "code",
   "execution_count": 100,
   "metadata": {
    "collapsed": false
   },
   "outputs": [],
   "source": [
    "# 98.6% goed voorspeld of de cross-validation mails Spam zijn\n",
    "# 1.4% is fout"
   ]
  },
  {
   "cell_type": "code",
   "execution_count": null,
   "metadata": {
    "collapsed": true
   },
   "outputs": [],
   "source": [
    "# Type I fout (dus het is eigenlijk geen Spam, maar je hebt het wel zo aangemerkt)\n",
    "# Type II fout (dus het is eigenlijk wel Spam, maar het wordt niet zo aangemerkt)"
   ]
  },
  {
   "cell_type": "code",
   "execution_count": 93,
   "metadata": {
    "collapsed": false
   },
   "outputs": [
    {
     "data": {
      "text/plain": [
       "0.72205641667468956"
      ]
     },
     "execution_count": 93,
     "metadata": {},
     "output_type": "execute_result"
    }
   ],
   "source": [
    "np.mean(result_forest>validate[\"Spam\"])*100"
   ]
  },
  {
   "cell_type": "code",
   "execution_count": 94,
   "metadata": {
    "collapsed": false
   },
   "outputs": [
    {
     "data": {
      "text/plain": [
       "0.63540964667372679"
      ]
     },
     "execution_count": 94,
     "metadata": {},
     "output_type": "execute_result"
    }
   ],
   "source": [
    "np.mean(result_forest<validate[\"Spam\"])*100"
   ]
  },
  {
   "cell_type": "code",
   "execution_count": null,
   "metadata": {
    "collapsed": true
   },
   "outputs": [],
   "source": [
    "# Dus 0.72% Type I fouten gemaakt\n",
    "# Dus 0.64% Type II fouten gemaakt"
   ]
  },
  {
   "cell_type": "code",
   "execution_count": null,
   "metadata": {
    "collapsed": true
   },
   "outputs": [],
   "source": [
    "# Ongeveer evenveel Type I en Type II fouten"
   ]
  },
  {
   "cell_type": "markdown",
   "metadata": {},
   "source": [
    "## Naieve Bayes"
   ]
  },
  {
   "cell_type": "code",
   "execution_count": 96,
   "metadata": {
    "collapsed": true
   },
   "outputs": [],
   "source": [
    "result_clf = clf.predict(validate_data_features)"
   ]
  },
  {
   "cell_type": "code",
   "execution_count": 101,
   "metadata": {
    "collapsed": false
   },
   "outputs": [
    {
     "data": {
      "text/plain": [
       "97.323577548859149"
      ]
     },
     "execution_count": 101,
     "metadata": {},
     "output_type": "execute_result"
    }
   ],
   "source": [
    "np.mean(result_clf==validate[\"Spam\"])*100"
   ]
  },
  {
   "cell_type": "code",
   "execution_count": 102,
   "metadata": {
    "collapsed": false
   },
   "outputs": [
    {
     "data": {
      "text/plain": [
       "2.6764224511408514"
      ]
     },
     "execution_count": 102,
     "metadata": {},
     "output_type": "execute_result"
    }
   ],
   "source": [
    "100 - np.mean(result_clf==validate[\"Spam\"])*100"
   ]
  },
  {
   "cell_type": "code",
   "execution_count": null,
   "metadata": {
    "collapsed": true
   },
   "outputs": [],
   "source": [
    "# Dus 97.3% is goed voorspeld, 2.7% fout voorspeld"
   ]
  },
  {
   "cell_type": "code",
   "execution_count": null,
   "metadata": {
    "collapsed": true
   },
   "outputs": [],
   "source": [
    "# Type I fout (dus het is eigenlijk geen Spam, maar je hebt het wel zo aangemerkt)\n",
    "# Type II fout (dus het is eigenlijk wel Spam, maar het wordt niet zo aangemerkt)"
   ]
  },
  {
   "cell_type": "code",
   "execution_count": 103,
   "metadata": {
    "collapsed": false
   },
   "outputs": [
    {
     "data": {
      "text/plain": [
       "0.70280157889669781"
      ]
     },
     "execution_count": 103,
     "metadata": {},
     "output_type": "execute_result"
    }
   ],
   "source": [
    "np.mean(result_clf>validate[\"Spam\"])*100"
   ]
  },
  {
   "cell_type": "code",
   "execution_count": 104,
   "metadata": {
    "collapsed": false
   },
   "outputs": [
    {
     "data": {
      "text/plain": [
       "1.9736208722441515"
      ]
     },
     "execution_count": 104,
     "metadata": {},
     "output_type": "execute_result"
    }
   ],
   "source": [
    "np.mean(result_clf<validate[\"Spam\"])*100"
   ]
  },
  {
   "cell_type": "code",
   "execution_count": null,
   "metadata": {
    "collapsed": true
   },
   "outputs": [],
   "source": [
    "# 0.7% Type I fout, 2.0% Type II. Dus de Naieve Bayes maakt iets meer Type II fouten (mist Spam) dan het random forest model.\n"
   ]
  },
  {
   "cell_type": "markdown",
   "metadata": {},
   "source": [
    "## Conclusie Cross-validation"
   ]
  },
  {
   "cell_type": "code",
   "execution_count": 126,
   "metadata": {
    "collapsed": false
   },
   "outputs": [],
   "source": [
    "# Beide modellen hebben ongeveer evenveel (weinig) Type I fout\n",
    "# Naieve Bayes heeft iets hogere Type II fout (laat sommige Spam-mail door)\n",
    "# Dus: Random forest model selecteren"
   ]
  },
  {
   "cell_type": "markdown",
   "metadata": {},
   "source": [
    "# Test model"
   ]
  },
  {
   "cell_type": "code",
   "execution_count": null,
   "metadata": {
    "collapsed": true
   },
   "outputs": [],
   "source": [
    "# Data voorbereiden"
   ]
  },
  {
   "cell_type": "code",
   "execution_count": 140,
   "metadata": {
    "collapsed": true
   },
   "outputs": [],
   "source": [
    "clean_test_mails = []\n",
    "num_test_mails = len(test[\"text\"])\n",
    "test.index = range(num_test_mails)\n",
    "\n",
    "for i in xrange( 0, num_test_mails ): \n",
    "    clean_test_mails.append( mail_to_words( test[\"text\"][i] ))"
   ]
  },
  {
   "cell_type": "code",
   "execution_count": 141,
   "metadata": {
    "collapsed": true
   },
   "outputs": [],
   "source": [
    "test_data_features = vectorizer.transform(clean_test_mails)\n",
    "test_data_features = test_data_features.toarray()"
   ]
  },
  {
   "cell_type": "code",
   "execution_count": 142,
   "metadata": {
    "collapsed": false
   },
   "outputs": [
    {
     "name": "stdout",
     "output_type": "stream",
     "text": [
      "(10388L, 5000L)\n"
     ]
    }
   ],
   "source": [
    "print test_data_features.shape"
   ]
  },
  {
   "cell_type": "code",
   "execution_count": 143,
   "metadata": {
    "collapsed": false
   },
   "outputs": [],
   "source": [
    "result_forest2 = forest.predict(test_data_features)"
   ]
  },
  {
   "cell_type": "code",
   "execution_count": 144,
   "metadata": {
    "collapsed": false
   },
   "outputs": [
    {
     "data": {
      "text/plain": [
       "98.411628802464378"
      ]
     },
     "execution_count": 144,
     "metadata": {},
     "output_type": "execute_result"
    }
   ],
   "source": [
    "np.mean(result_forest2==test[\"Spam\"])*100"
   ]
  },
  {
   "cell_type": "code",
   "execution_count": 150,
   "metadata": {
    "collapsed": false
   },
   "outputs": [
    {
     "data": {
      "text/plain": [
       "1.5883711975356221"
      ]
     },
     "execution_count": 150,
     "metadata": {},
     "output_type": "execute_result"
    }
   ],
   "source": [
    "100 - np.mean(result_forest2==test[\"Spam\"])*100"
   ]
  },
  {
   "cell_type": "code",
   "execution_count": 151,
   "metadata": {
    "collapsed": false
   },
   "outputs": [
    {
     "data": {
      "text/plain": [
       "0.87601078167115909"
      ]
     },
     "execution_count": 151,
     "metadata": {},
     "output_type": "execute_result"
    }
   ],
   "source": [
    "np.mean(result_forest2>test[\"Spam\"])*100"
   ]
  },
  {
   "cell_type": "code",
   "execution_count": 152,
   "metadata": {
    "collapsed": false
   },
   "outputs": [
    {
     "data": {
      "text/plain": [
       "0.71236041586445897"
      ]
     },
     "execution_count": 152,
     "metadata": {},
     "output_type": "execute_result"
    }
   ],
   "source": [
    "np.mean(result_forest2<test[\"Spam\"])*100"
   ]
  },
  {
   "cell_type": "code",
   "execution_count": null,
   "metadata": {
    "collapsed": true
   },
   "outputs": [],
   "source": [
    "# Lijkt oke te werken :)"
   ]
  }
 ],
 "metadata": {
  "anaconda-cloud": {},
  "kernelspec": {
   "display_name": "Python [conda env:py27]",
   "language": "python",
   "name": "conda-env-py27-py"
  },
  "language_info": {
   "codemirror_mode": {
    "name": "ipython",
    "version": 2
   },
   "file_extension": ".py",
   "mimetype": "text/x-python",
   "name": "python",
   "nbconvert_exporter": "python",
   "pygments_lexer": "ipython2",
   "version": "2.7.13"
  }
 },
 "nbformat": 4,
 "nbformat_minor": 1
}

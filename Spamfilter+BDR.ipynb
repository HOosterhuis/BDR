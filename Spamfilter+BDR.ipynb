{
 "cells": [
  {
   "cell_type": "markdown",
   "metadata": {},
   "source": [
    "# SPAM FILTER"
   ]
  },
  {
   "cell_type": "code",
   "execution_count": 57,
   "metadata": {
    "collapsed": true
   },
   "outputs": [],
   "source": [
    "# Import modules"
   ]
  },
  {
   "cell_type": "code",
   "execution_count": 37,
   "metadata": {
    "collapsed": false
   },
   "outputs": [],
   "source": [
    "import os\n",
    "import sys\n",
    "import pandas as pd\n",
    "import html2text as ht\n",
    "import email\n",
    "import bs4\n",
    "from bs4 import BeautifulSoup\n",
    "import re"
   ]
  },
  {
   "cell_type": "markdown",
   "metadata": {},
   "source": [
    "# Functions "
   ]
  },
  {
   "cell_type": "markdown",
   "metadata": {},
   "source": [
    "## Read data using file crawler"
   ]
  },
  {
   "cell_type": "code",
   "execution_count": null,
   "metadata": {
    "collapsed": true
   },
   "outputs": [],
   "source": [
    "# Mails staan in folders, subfolders. FileCrawler loopt door de folders en subfolders heb en opent de mails."
   ]
  },
  {
   "cell_type": "code",
   "execution_count": 2,
   "metadata": {
    "collapsed": false
   },
   "outputs": [],
   "source": [
    "# File crawler om data in te lezen\n",
    "def FileCrawler(root, variable):\n",
    "    for root, dirs, files in os.walk(root):\n",
    "        for f in files: \n",
    "            with open(os.path.join(root,f)) as content:\n",
    "                file_content = content.read()\n",
    "                variable.append(file_content) \n",
    "    return"
   ]
  },
  {
   "cell_type": "markdown",
   "metadata": {},
   "source": [
    "## Mails uit elkaar trekken"
   ]
  },
  {
   "cell_type": "code",
   "execution_count": null,
   "metadata": {
    "collapsed": true
   },
   "outputs": [],
   "source": [
    "# mails bestaan uit mail-informatie en het daadwerkelijke mailtje (dus from, to, etc.).\n",
    "# SpamParser haalt de informatie los en geeft de \"from, to, en body\" als losse informatie."
   ]
  },
  {
   "cell_type": "code",
   "execution_count": 87,
   "metadata": {
    "collapsed": true
   },
   "outputs": [],
   "source": [
    "def SpamParser(data):\n",
    "    b = email.message_from_string(data)\n",
    "    mail_from = b['from']\n",
    "    mail_to = b['to']\n",
    "    mail_body = []\n",
    "    if b.is_multipart():\n",
    "        for part in b.walk():\n",
    "            if part.get_content_type() == 'text/plain':\n",
    "                mail_body = part.get_payload()\n",
    "            elif part.get_content_type() == 'text/html':\n",
    "                mail_body = part.get_payload()\n",
    "    else:\n",
    "        mail_body = b.get_payload()\n",
    "    return {'from':mail_from, 'to': mail_to,'body': mail_body}\n"
   ]
  },
  {
   "cell_type": "markdown",
   "metadata": {},
   "source": [
    "## Line breaks verwijderen uit mail"
   ]
  },
  {
   "cell_type": "code",
   "execution_count": 127,
   "metadata": {
    "collapsed": true
   },
   "outputs": [],
   "source": [
    "def RemoveLineBreaks(mail):\n",
    "    cleaned = re.sub(\"\\n\", \" \", mail)\n",
    "    cleaned = re.sub(\"\\t\", \" \", cleaned)\n",
    "    return cleaned"
   ]
  },
  {
   "cell_type": "markdown",
   "metadata": {},
   "source": [
    "## Mails HTML to text"
   ]
  },
  {
   "cell_type": "code",
   "execution_count": null,
   "metadata": {
    "collapsed": true
   },
   "outputs": [],
   "source": [
    "# De spam mail bodies staan in html\n",
    "# Clean_html: functie om html tags uit mailtje te halen. Werkt niet 100% (soms blijft er een enkele code staan) \n",
    "# maar wel beter dan html2text (encoding errors) en BeautifulSoup (die laat soms html staan zonder het te zeggen)"
   ]
  },
  {
   "cell_type": "code",
   "execution_count": 86,
   "metadata": {
    "collapsed": true
   },
   "outputs": [],
   "source": [
    "def clean_html(file):\n",
    "    # First remove inline JavaScript/CSS:\n",
    "    cleaned = re.sub(r\"(?is)<(script|style).*?>.*?()\", \"\", file)\n",
    "    # Then remove html comments. \n",
    "    cleaned = re.sub(r\"(?s)[\\n]?\", \"\", cleaned)\n",
    "    # Next remove the remaining tags:\n",
    "    cleaned = re.sub(r\"(?s)<.*?>\", \" \", cleaned)\n",
    "    # Finally deal with whitespace\n",
    "    cleaned = cleaned.replace('&nbsp', ' ')\n",
    "    cleaned = re.sub(r\" \", \" \", cleaned)\n",
    "    cleaned = re.sub(r\"^$\", \"\", cleaned)\n",
    "    cleaned = re.sub(\"''|,\", \"\", cleaned)\n",
    "    cleaned = re.sub(r\"  \", \" \", cleaned)\n",
    "\n",
    "    return cleaned"
   ]
  },
  {
   "cell_type": "markdown",
   "metadata": {},
   "source": [
    "# Clean and preprocess data"
   ]
  },
  {
   "cell_type": "markdown",
   "metadata": {},
   "source": [
    "## Data inlezen"
   ]
  },
  {
   "cell_type": "code",
   "execution_count": 3,
   "metadata": {
    "collapsed": false
   },
   "outputs": [],
   "source": [
    "# HAM-data inlezen\n",
    "root = \"C:\\Users\\HOosterhuis\\Documents\\BDR\\SPAMFILTER\\HAM\"\n",
    "ham_data = []\n",
    "FileCrawler(root, ham_data)"
   ]
  },
  {
   "cell_type": "code",
   "execution_count": 55,
   "metadata": {
    "collapsed": false
   },
   "outputs": [
    {
     "data": {
      "text/plain": [
       "'Message-ID: <4154261.1075855758312.JavaMail.evans@thyme>\\nDate: Thu, 2 Nov 2000 08:25:00 -0800 (PST)\\nFrom: holly.heath@enron.com\\nTo: robert.superty@enron.com, diane.cook@enron.com, heather.choate@enron.com, \\n\\tbob.hall@enron.com, vanessa.kyama@enron.com, bob.hall@enron.com, \\n\\tsheri.thomas@enron.com, lola.willis@enron.com, \\n\\tmary.solmonson@enron.com, marvia.jefferson@enron.com, \\n\\tjulissa.marron@enron.com, sally.beck@enron.com, \\n\\tpatti.thompson@enron.com\\nSubject: Plan 2001 - Global Markets\\nMime-Version: 1.0\\nContent-Type: text/plain; charset=us-ascii\\nContent-Transfer-Encoding: 7bit\\nX-From: Holly Heath\\nX-To: Robert Superty, Diane H Cook, Heather Choate, Bob M Hall, Vanessa Kyama, Bob M Hall, Sheri Thomas, Lola Willis, Mary Solmonson, Marvia Jefferson, Julissa Marron, Sally Beck, Patti Thompson\\nX-cc: \\nX-bcc: \\nX-Origin: Beck-S\\nX-FileName: sbeck.nsf\\n\\nAttached is a file containing all cost centers that are allocating to Global \\nMarkets in the year 2001.  Could I please get from you a breakdown of every \\nteam affected by Global markets.  Please explain all percentages listed in \\ncolumn \"A\", by breaking apart into columns B - J.  Please feel free to call \\nwith any questions you may have.  Thanks so much for your help.\\n\\nPlease submit this explanation by tomorrow afternoon.\\n\\nThanks again for your help. \\n\\nHolly\\n3-5843\\n\\n\\n '"
      ]
     },
     "execution_count": 55,
     "metadata": {},
     "output_type": "execute_result"
    }
   ],
   "source": [
    "ham_data[2]"
   ]
  },
  {
   "cell_type": "code",
   "execution_count": 5,
   "metadata": {
    "collapsed": false
   },
   "outputs": [],
   "source": [
    "# SPAM-data inlezen\n",
    "root = \"C:\\Users\\HOosterhuis\\Documents\\BDR\\SPAMFILTER\\SPAM\"\n",
    "spam_data = []\n",
    "FileCrawler(root, spam_data)"
   ]
  },
  {
   "cell_type": "code",
   "execution_count": 53,
   "metadata": {
    "collapsed": false
   },
   "outputs": [
    {
     "data": {
      "text/plain": [
       "'Return-Path: <Opal.Champion@e-a.com>\\nDelivered-To: rait@bruce-guenter.dyndns.org\\nReceived: (qmail 17070 invoked from network); 31 Jul 2004 22:20:13 -0000\\nReceived: from localhost (localhost [127.0.0.1])\\n  by bruce-guenter.dyndns.org ([192.168.1.3]); 31 Jul 2004 22:20:13 -0000\\nReceived: from zak.futurequest.net ([127.0.0.1])\\n  by localhost ([127.0.0.1])\\n  with SMTP via TCP; 31 Jul 2004 22:20:13 -0000\\nReceived: (qmail 10312 invoked from network); 31 Jul 2004 22:20:12 -0000\\nReceived: from 200-148-23-125.dsl.telesp.net.br (unknown [200.148.23.125])\\n  by zak.futurequest.net ([69.5.6.152])\\n  with SMTP via TCP; 31 Jul 2004 22:20:10 -0000\\nX-Message-Info: tfsp6LD1jly739XR167XFHBlNZ9urA0wVBmwLIU65D3\\nReceived: (from eduardo@200.148.23.125)\\n\\tby aura4.3.190.168.0 (4.81.3/1.94.7) id u608GHGuP917022;\\n\\tSat, 31 Jul 2004 19:07:29 -0400\\nMessage-ID: <247192680$5973SCEG$98@i-cable.com>\\nDelivery-Date: Sun, 01 Aug 2004 00:10:29 +0100\\nKeywords: econometric cavernous \\nComments: align semite \\nReply-To: \"LZEDEMCNODQBEZQBOV@encryption.com\" <Opal.Champion@e-a.com>\\nFrom: \"LZEDEMCNODQBEZQBOV@encryption.com\" <Opal.Champion@e-a.com>\\nTo: cvs@bruce-guenter.dyndns.org\\nCc: rait@bruce-guenter.dyndns.org\\nSubject: Winner: $332573\\nDate: Sat, 31 Jul 2004 22:14:29 -0100\\nMIME-Version: 1.0\\nContent-Type: multipart/alternative;\\n\\tboundary=\"--646313721995004612\"\\nContent-Length: 508\\nLines: 20\\n\\n----646313721995004612\\nContent-Type: text/html;\\n\\tcharset=\"iso-0152-2\"\\nContent-Transfer-Encoding: 7Bit\\n\\n<html>\\nYour [m]ortgage application was approved.<br>\\nYou are eligible for a $339816 loan<br>\\nand a 2.5% fixed rate.\\n<p>\\n\\nPlease complete the form to process your application:<br>\\n <a href=\"http://bsch.ggflnp.com/j8/li.php?l4d=55\">http://bsch.ggflnp.com/j8/li.php?l4d=55</a><p>\\n\\niMort Broker Association, LLC.\\n<p><p>\\n<a href=\"http://www.ggflnp.com/r3/\">not interested</a>\\n</html>\\n\\n----646313721995004612--\\n'"
      ]
     },
     "execution_count": 53,
     "metadata": {},
     "output_type": "execute_result"
    }
   ],
   "source": [
    "spam_data[1]"
   ]
  },
  {
   "cell_type": "markdown",
   "metadata": {},
   "source": [
    "## Ham-email omzetten"
   ]
  },
  {
   "cell_type": "code",
   "execution_count": 132,
   "metadata": {
    "collapsed": false
   },
   "outputs": [],
   "source": [
    "# Ham-mails: from, to en body extracten"
   ]
  },
  {
   "cell_type": "code",
   "execution_count": 133,
   "metadata": {
    "collapsed": false
   },
   "outputs": [],
   "source": [
    "ham_data_mail = [SpamParser(d) for d in ham_data]"
   ]
  },
  {
   "cell_type": "code",
   "execution_count": 134,
   "metadata": {
    "collapsed": false
   },
   "outputs": [],
   "source": [
    "ham_data_from = [x['from'] for  x in ham_data_mail]\n",
    "ham_data_to = [x['to'] for  x in ham_data_mail]\n",
    "ham_data_body = [x['body'] for  x in ham_data_mail]"
   ]
  },
  {
   "cell_type": "code",
   "execution_count": 135,
   "metadata": {
    "collapsed": false
   },
   "outputs": [],
   "source": [
    "ham_data_text = [RemoveLineBreaks(x) for x in ham_data_body]"
   ]
  },
  {
   "cell_type": "code",
   "execution_count": 136,
   "metadata": {
    "collapsed": false
   },
   "outputs": [
    {
     "data": {
      "text/plain": [
       "'URGENT  The Associate and Analyst Recruiting Department will be conducting a number  of two hour workshops to review our recruiting and interview process for the  fall on-campus recruiting effort.  Critical information regarding our  on-campus interview process, revised evaluation forms and program structure  will be reviewed during these two hours sessions.  It is mandatory that all team members attend these workshops.  All team  members must attend in order to articulate and demonstrate the Enron  recruiting process.  Knowing how busy schedules are, we have made  arrangements to present these workshops in two hours sessions for a total of   40 workshops that will run during the last week of August, through the month  of September and end at mid October.  Listed below are the dates, location and times for each session.  Please  select a date and time and e-mail this information to my assistant, Dolores  Muzzy.  We can accommodate 25 participants at a time.  Dolores will take  dates and times on a first come, first serve basis.  We have scheduled enough  sessions to accommodate every member of both the Associate and Analyst  recruiting teams.  In order to participate in the recruiting process, you must attend one of  these sessions.  We will be tracking participation.  CPE credits will also be  given for attending this workshop. '"
      ]
     },
     "execution_count": 136,
     "metadata": {},
     "output_type": "execute_result"
    }
   ],
   "source": [
    "ham_data_text[10]"
   ]
  },
  {
   "cell_type": "code",
   "execution_count": 145,
   "metadata": {
    "collapsed": false
   },
   "outputs": [
    {
     "data": {
      "text/plain": [
       "19089"
      ]
     },
     "execution_count": 145,
     "metadata": {},
     "output_type": "execute_result"
    }
   ],
   "source": [
    "len(ham_data_body)"
   ]
  },
  {
   "cell_type": "code",
   "execution_count": 146,
   "metadata": {
    "collapsed": true
   },
   "outputs": [],
   "source": [
    "ham_data_body = filter(None, ham_data_body)"
   ]
  },
  {
   "cell_type": "code",
   "execution_count": 147,
   "metadata": {
    "collapsed": false
   },
   "outputs": [
    {
     "data": {
      "text/plain": [
       "19089"
      ]
     },
     "execution_count": 147,
     "metadata": {},
     "output_type": "execute_result"
    }
   ],
   "source": [
    "len(ham_data_body)"
   ]
  },
  {
   "cell_type": "markdown",
   "metadata": {},
   "source": [
    "## Spam email omzetten "
   ]
  },
  {
   "cell_type": "code",
   "execution_count": 137,
   "metadata": {
    "collapsed": false
   },
   "outputs": [],
   "source": [
    "spam_data_mail = [SpamParser(d) for d in spam_data]"
   ]
  },
  {
   "cell_type": "code",
   "execution_count": 138,
   "metadata": {
    "collapsed": true
   },
   "outputs": [],
   "source": [
    "# Spam_data onderdelen los in lists opslaan, zodat verder gewerkt kan worden aan de (html-)body alleen"
   ]
  },
  {
   "cell_type": "code",
   "execution_count": 139,
   "metadata": {
    "collapsed": false
   },
   "outputs": [],
   "source": [
    "spam_data_from = [x['from'] for  x in spam_data_mail]\n",
    "spam_data_to = [x['to'] for  x in spam_data_mail]\n",
    "spam_data_body = [x['body'] for  x in spam_data_mail]"
   ]
  },
  {
   "cell_type": "code",
   "execution_count": 140,
   "metadata": {
    "collapsed": true
   },
   "outputs": [],
   "source": [
    "# Checken hoeveel mails zijn overgebleven"
   ]
  },
  {
   "cell_type": "code",
   "execution_count": 148,
   "metadata": {
    "collapsed": false
   },
   "outputs": [
    {
     "data": {
      "text/plain": [
       "32848"
      ]
     },
     "execution_count": 148,
     "metadata": {},
     "output_type": "execute_result"
    }
   ],
   "source": [
    "len(spam_data_body)"
   ]
  },
  {
   "cell_type": "code",
   "execution_count": 149,
   "metadata": {
    "collapsed": true
   },
   "outputs": [],
   "source": [
    "# Lege mails er uit halen (zijn er maar een paar)"
   ]
  },
  {
   "cell_type": "code",
   "execution_count": 150,
   "metadata": {
    "collapsed": false
   },
   "outputs": [],
   "source": [
    "spam_data_body = filter(None, spam_data_body)"
   ]
  },
  {
   "cell_type": "code",
   "execution_count": 151,
   "metadata": {
    "collapsed": false
   },
   "outputs": [
    {
     "data": {
      "text/plain": [
       "32848"
      ]
     },
     "execution_count": 151,
     "metadata": {},
     "output_type": "execute_result"
    }
   ],
   "source": [
    "len(spam_data_body)"
   ]
  },
  {
   "cell_type": "markdown",
   "metadata": {},
   "source": [
    "## Spam data in HTML: omzetten naar ASCII"
   ]
  },
  {
   "cell_type": "code",
   "execution_count": null,
   "metadata": {
    "collapsed": true
   },
   "outputs": [],
   "source": [
    "# Mail body staat nog in HTML"
   ]
  },
  {
   "cell_type": "code",
   "execution_count": 152,
   "metadata": {
    "collapsed": false
   },
   "outputs": [
    {
     "data": {
      "text/plain": [
       "'<html>\\n<font color=\\n\\n#e5e6f6>Carolyn regretful watchfully Procrustes godly</font><br>\\nSummer 2004 was too hot for the software manufacturers.<br>\\nNo wonder! As the prices were reduced in 3-4 times.<br>\\nThis was caused by the software glut on the world market.<br>\\nOn the other hand the user who were not able or just had<br>\\nno time to update their software now have the possibility<br>\\nto do this almost free of charge.<br>\\n<br>\\n<b>\\n<i>Read the whole article:</i><br>\\n<a hrefrockerhref=http://ordinal.com href=\\n\\n\"http://softbox24.info/index.php?s=0288\">Year 2004. Sotware prices fall down.</a><br>\\n<font size=-1>\\xc2\\xa9 Peter Lemelman</font>\\n</font>\\n</b>\\n<font color=\\n\\n#e4e6e4>onerous reclaimers remunerate Lounsbury dictate</font><br>\\n<font color=\\n\\n#fbfdf1>costed continued snooping digression Rhine</font><br>\\n<font color=\\n\\n#f2f5f5>inseminate tilts instructs rejoice switchman</font><br>\\n<font color=\\n\\n#e3e8e7>stomaching hurtling Brent gunners tortoises</font><br>\\n</html>\\n\\n\\n'"
      ]
     },
     "execution_count": 152,
     "metadata": {},
     "output_type": "execute_result"
    }
   ],
   "source": [
    "spam_data_body[14]"
   ]
  },
  {
   "cell_type": "code",
   "execution_count": 153,
   "metadata": {
    "collapsed": true
   },
   "outputs": [],
   "source": [
    "# omzetten naar text met clean_html"
   ]
  },
  {
   "cell_type": "code",
   "execution_count": 154,
   "metadata": {
    "collapsed": false
   },
   "outputs": [],
   "source": [
    "spam_body_text = [clean_html(x) for x in spam_data_body]"
   ]
  },
  {
   "cell_type": "code",
   "execution_count": 155,
   "metadata": {
    "collapsed": false
   },
   "outputs": [
    {
     "data": {
      "text/plain": [
       "'TOP quality software:  Special Offer #1:  Windows XP Professional+Microsoft Office XP Professional =3D only= $80 Special Offer #2:  Adobe - Photoshop 7 Premiere 7 Illustrator 10 =3D only $120 Special Offer #3:  Macromedia Dreamwaver MX 2004 + Flash MX 2004 =3D only $100 Also:    Windows 2003 Server Windows 2000 Workstation Windows 2000 Server      Windows 2000 Advanced Server   Windows 2000 Datacenter Windows NT 4.0 Windows Millenium Windows 98 Second Edition Windows 95 Office XP Professional  Office 2000  Office 97 MS Plus    MS SQL Server 2000 Enterprise Edition MS Visual Studio .NET Architect Edition  MS Encarta Encyclopedia Delux 2004 MS Project 2003 Professional MS Money 2004 MS Streets and Trips 2004 MS Works 7 MS Picture It Premium 9 MS Exchange 2003 Enterprise Server Adobe Photoshop Adobe PageMaker Adobe Illustrator           Adobe Acrobat 6 Professional Adobe Premiere Macromedia Dreamwaver MX 2004         Macromedia Flash MX 2004                  Macromedia Fireworks MX 2004                 Macromedia Freehand MX 11        Corel Draw Graphics Suite 12                   Corel Draw Graphics Suite 11         Corel Photo Painter 8                   Corel Word Perfect Office 2002              Norton System Works 2003                 Borland Delphi 7 Enterprise Edition           Quark Xpress 6 Passport Multilanguage      Enter Here '"
      ]
     },
     "execution_count": 155,
     "metadata": {},
     "output_type": "execute_result"
    }
   ],
   "source": [
    "spam_body_text[2]"
   ]
  },
  {
   "cell_type": "markdown",
   "metadata": {},
   "source": [
    "# Create dataframe"
   ]
  },
  {
   "cell_type": "code",
   "execution_count": null,
   "metadata": {
    "collapsed": true
   },
   "outputs": [],
   "source": []
  },
  {
   "cell_type": "code",
   "execution_count": null,
   "metadata": {
    "collapsed": true
   },
   "outputs": [],
   "source": []
  },
  {
   "cell_type": "code",
   "execution_count": null,
   "metadata": {
    "collapsed": true
   },
   "outputs": [],
   "source": []
  },
  {
   "cell_type": "code",
   "execution_count": null,
   "metadata": {
    "collapsed": true
   },
   "outputs": [],
   "source": []
  },
  {
   "cell_type": "code",
   "execution_count": null,
   "metadata": {
    "collapsed": true
   },
   "outputs": [],
   "source": []
  },
  {
   "cell_type": "markdown",
   "metadata": {},
   "source": [
    "# Divide data into training (60%), cross-validation (20%), and test set (20%) "
   ]
  },
  {
   "cell_type": "code",
   "execution_count": null,
   "metadata": {
    "collapsed": true
   },
   "outputs": [],
   "source": [
    "train, validate, test = np.split(df.sample(frac=1), [int(.6*len(df)), int(.8*len(df))])\n"
   ]
  },
  {
   "cell_type": "code",
   "execution_count": null,
   "metadata": {
    "collapsed": true
   },
   "outputs": [],
   "source": []
  },
  {
   "cell_type": "code",
   "execution_count": null,
   "metadata": {
    "collapsed": true
   },
   "outputs": [],
   "source": []
  },
  {
   "cell_type": "markdown",
   "metadata": {},
   "source": [
    "# Extract features"
   ]
  },
  {
   "cell_type": "markdown",
   "metadata": {},
   "source": [
    "## most frequently occuring words in training set\n"
   ]
  },
  {
   "cell_type": "markdown",
   "metadata": {},
   "source": [
    "# Train model"
   ]
  },
  {
   "cell_type": "markdown",
   "metadata": {},
   "source": [
    "# Cross-validate model"
   ]
  },
  {
   "cell_type": "markdown",
   "metadata": {},
   "source": [
    "## Evaluate performance\n",
    "## Evaluate errors\n",
    "## Extract new features?\n",
    "## Choose model"
   ]
  },
  {
   "cell_type": "markdown",
   "metadata": {},
   "source": [
    "# Test model"
   ]
  },
  {
   "cell_type": "markdown",
   "metadata": {},
   "source": [
    "## Evaluate performance"
   ]
  },
  {
   "cell_type": "code",
   "execution_count": null,
   "metadata": {
    "collapsed": true
   },
   "outputs": [],
   "source": []
  }
 ],
 "metadata": {
  "anaconda-cloud": {},
  "kernelspec": {
   "display_name": "Python [conda env:py27]",
   "language": "python",
   "name": "conda-env-py27-py"
  },
  "language_info": {
   "codemirror_mode": {
    "name": "ipython",
    "version": 2
   },
   "file_extension": ".py",
   "mimetype": "text/x-python",
   "name": "python",
   "nbconvert_exporter": "python",
   "pygments_lexer": "ipython2",
   "version": "2.7.13"
  }
 },
 "nbformat": 4,
 "nbformat_minor": 1
}
